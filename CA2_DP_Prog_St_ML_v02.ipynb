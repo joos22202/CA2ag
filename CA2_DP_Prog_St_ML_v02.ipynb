{
 "cells": [
  {
   "cell_type": "markdown",
   "metadata": {},
   "source": [
    "# MSc. DA  - CA2"
   ]
  },
  {
   "cell_type": "markdown",
   "metadata": {},
   "source": [
    "JOANNE O'SHAUGHNESSY, sba22202 <br>"
   ]
  },
  {
   "cell_type": "markdown",
   "metadata": {},
   "source": [
    "# Section 1: Loading of Libraries"
   ]
  },
  {
   "cell_type": "code",
   "execution_count": 1,
   "metadata": {},
   "outputs": [],
   "source": [
    "import pandas as pd\n",
    "import numpy as np\n",
    "import matplotlib.pyplot as plt\n",
    "from matplotlib.pyplot import subplots, show\n",
    "%matplotlib inline\n",
    "import seaborn as sns\n",
    "sns.set()\n",
    "\n",
    "from datetime import datetime\n",
    "import datetime as dt\n",
    "\n",
    "import warnings\n",
    "warnings.filterwarnings('ignore')\n",
    "\n",
    "import numpy as np\n",
    "import pandas as pd\n",
    "import matplotlib.pyplot as plt\n",
    "from sklearn.preprocessing import MinMaxScaler\n",
    "from tensorflow.keras.models import Sequential\n",
    "from tensorflow.keras.layers import LSTM,Activation,Dense,Dropout\n",
    "%matplotlib inline"
   ]
  },
  {
   "cell_type": "markdown",
   "metadata": {},
   "source": [
    "# Section 2: Dairy DataSets - Data Prep"
   ]
  },
  {
   "cell_type": "markdown",
   "metadata": {},
   "source": [
    "Loading/reading CSV file with Milk Sales Ireland in litres Jan 1980 - Dec 2010 (source = gov.ie)"
   ]
  },
  {
   "cell_type": "code",
   "execution_count": 2,
   "metadata": {
    "scrolled": true
   },
   "outputs": [],
   "source": [
    "df = pd.read_csv('AKM02.20230103212036.csv')"
   ]
  },
  {
   "cell_type": "code",
   "execution_count": 3,
   "metadata": {},
   "outputs": [
    {
     "data": {
      "text/plain": [
       "(2520, 8)"
      ]
     },
     "execution_count": 3,
     "metadata": {},
     "output_type": "execute_result"
    }
   ],
   "source": [
    "df.shape"
   ]
  },
  {
   "cell_type": "code",
   "execution_count": 4,
   "metadata": {
    "scrolled": true
   },
   "outputs": [
    {
     "data": {
      "text/html": [
       "<div>\n",
       "<style scoped>\n",
       "    .dataframe tbody tr th:only-of-type {\n",
       "        vertical-align: middle;\n",
       "    }\n",
       "\n",
       "    .dataframe tbody tr th {\n",
       "        vertical-align: top;\n",
       "    }\n",
       "\n",
       "    .dataframe thead th {\n",
       "        text-align: right;\n",
       "    }\n",
       "</style>\n",
       "<table border=\"1\" class=\"dataframe\">\n",
       "  <thead>\n",
       "    <tr style=\"text-align: right;\">\n",
       "      <th></th>\n",
       "      <th>STATISTIC</th>\n",
       "      <th>STATISTIC Label</th>\n",
       "      <th>TLIST(M1)</th>\n",
       "      <th>Date</th>\n",
       "      <th>C02064V02491</th>\n",
       "      <th>Type of Milk</th>\n",
       "      <th>UNIT</th>\n",
       "      <th>VALUE</th>\n",
       "    </tr>\n",
       "  </thead>\n",
       "  <tbody>\n",
       "    <tr>\n",
       "      <th>0</th>\n",
       "      <td>AKM02</td>\n",
       "      <td>Milk Sales (Dairy) for Human Consumption</td>\n",
       "      <td>198001</td>\n",
       "      <td>01/01/1980</td>\n",
       "      <td>1</td>\n",
       "      <td>All Milk</td>\n",
       "      <td>Million Litres</td>\n",
       "      <td>38.2</td>\n",
       "    </tr>\n",
       "    <tr>\n",
       "      <th>1</th>\n",
       "      <td>AKM02</td>\n",
       "      <td>Milk Sales (Dairy) for Human Consumption</td>\n",
       "      <td>198001</td>\n",
       "      <td>01/01/1980</td>\n",
       "      <td>12</td>\n",
       "      <td>Whole Milk</td>\n",
       "      <td>Million Litres</td>\n",
       "      <td>38.2</td>\n",
       "    </tr>\n",
       "    <tr>\n",
       "      <th>2</th>\n",
       "      <td>AKM02</td>\n",
       "      <td>Milk Sales (Dairy) for Human Consumption</td>\n",
       "      <td>198001</td>\n",
       "      <td>01/01/1980</td>\n",
       "      <td>13</td>\n",
       "      <td>Skimmed and Semi-skimmed milk</td>\n",
       "      <td>Million Litres</td>\n",
       "      <td>NaN</td>\n",
       "    </tr>\n",
       "    <tr>\n",
       "      <th>3</th>\n",
       "      <td>AKM02</td>\n",
       "      <td>Milk Sales (Dairy) for Human Consumption</td>\n",
       "      <td>198001</td>\n",
       "      <td>01/01/1980</td>\n",
       "      <td>14</td>\n",
       "      <td>Skimmed Milk</td>\n",
       "      <td>Million Litres</td>\n",
       "      <td>NaN</td>\n",
       "    </tr>\n",
       "    <tr>\n",
       "      <th>4</th>\n",
       "      <td>AKM02</td>\n",
       "      <td>Milk Sales (Dairy) for Human Consumption</td>\n",
       "      <td>198001</td>\n",
       "      <td>01/01/1980</td>\n",
       "      <td>15</td>\n",
       "      <td>Semi-skimmed milk</td>\n",
       "      <td>Million Litres</td>\n",
       "      <td>NaN</td>\n",
       "    </tr>\n",
       "  </tbody>\n",
       "</table>\n",
       "</div>"
      ],
      "text/plain": [
       "  STATISTIC                           STATISTIC Label  TLIST(M1)        Date  \\\n",
       "0     AKM02  Milk Sales (Dairy) for Human Consumption     198001  01/01/1980   \n",
       "1     AKM02  Milk Sales (Dairy) for Human Consumption     198001  01/01/1980   \n",
       "2     AKM02  Milk Sales (Dairy) for Human Consumption     198001  01/01/1980   \n",
       "3     AKM02  Milk Sales (Dairy) for Human Consumption     198001  01/01/1980   \n",
       "4     AKM02  Milk Sales (Dairy) for Human Consumption     198001  01/01/1980   \n",
       "\n",
       "   C02064V02491                   Type of Milk            UNIT VALUE  \n",
       "0             1                       All Milk  Million Litres  38.2  \n",
       "1            12                     Whole Milk  Million Litres  38.2  \n",
       "2            13  Skimmed and Semi-skimmed milk  Million Litres   NaN  \n",
       "3            14                   Skimmed Milk  Million Litres   NaN  \n",
       "4            15              Semi-skimmed milk  Million Litres   NaN  "
      ]
     },
     "execution_count": 4,
     "metadata": {},
     "output_type": "execute_result"
    }
   ],
   "source": [
    "df.head()"
   ]
  },
  {
   "cell_type": "code",
   "execution_count": 5,
   "metadata": {
    "scrolled": true
   },
   "outputs": [
    {
     "data": {
      "text/html": [
       "<div>\n",
       "<style scoped>\n",
       "    .dataframe tbody tr th:only-of-type {\n",
       "        vertical-align: middle;\n",
       "    }\n",
       "\n",
       "    .dataframe tbody tr th {\n",
       "        vertical-align: top;\n",
       "    }\n",
       "\n",
       "    .dataframe thead th {\n",
       "        text-align: right;\n",
       "    }\n",
       "</style>\n",
       "<table border=\"1\" class=\"dataframe\">\n",
       "  <thead>\n",
       "    <tr style=\"text-align: right;\">\n",
       "      <th></th>\n",
       "      <th>STATISTIC</th>\n",
       "      <th>STATISTIC Label</th>\n",
       "      <th>TLIST(M1)</th>\n",
       "      <th>Date</th>\n",
       "      <th>C02064V02491</th>\n",
       "      <th>Type of Milk</th>\n",
       "      <th>UNIT</th>\n",
       "      <th>VALUE</th>\n",
       "    </tr>\n",
       "  </thead>\n",
       "  <tbody>\n",
       "    <tr>\n",
       "      <th>2515</th>\n",
       "      <td>AKM02</td>\n",
       "      <td>Milk Sales (Dairy) for Human Consumption</td>\n",
       "      <td>202112</td>\n",
       "      <td>01/12/2021</td>\n",
       "      <td>1</td>\n",
       "      <td>All Milk</td>\n",
       "      <td>Million Litres</td>\n",
       "      <td>39.7</td>\n",
       "    </tr>\n",
       "    <tr>\n",
       "      <th>2516</th>\n",
       "      <td>AKM02</td>\n",
       "      <td>Milk Sales (Dairy) for Human Consumption</td>\n",
       "      <td>202112</td>\n",
       "      <td>01/12/2021</td>\n",
       "      <td>12</td>\n",
       "      <td>Whole Milk</td>\n",
       "      <td>Million Litres</td>\n",
       "      <td>24.5</td>\n",
       "    </tr>\n",
       "    <tr>\n",
       "      <th>2517</th>\n",
       "      <td>AKM02</td>\n",
       "      <td>Milk Sales (Dairy) for Human Consumption</td>\n",
       "      <td>202112</td>\n",
       "      <td>01/12/2021</td>\n",
       "      <td>13</td>\n",
       "      <td>Skimmed and Semi-skimmed milk</td>\n",
       "      <td>Million Litres</td>\n",
       "      <td>15.2</td>\n",
       "    </tr>\n",
       "    <tr>\n",
       "      <th>2518</th>\n",
       "      <td>AKM02</td>\n",
       "      <td>Milk Sales (Dairy) for Human Consumption</td>\n",
       "      <td>202112</td>\n",
       "      <td>01/12/2021</td>\n",
       "      <td>14</td>\n",
       "      <td>Skimmed Milk</td>\n",
       "      <td>Million Litres</td>\n",
       "      <td>NaN</td>\n",
       "    </tr>\n",
       "    <tr>\n",
       "      <th>2519</th>\n",
       "      <td>AKM02</td>\n",
       "      <td>Milk Sales (Dairy) for Human Consumption</td>\n",
       "      <td>202112</td>\n",
       "      <td>01/12/2021</td>\n",
       "      <td>15</td>\n",
       "      <td>Semi-skimmed milk</td>\n",
       "      <td>Million Litres</td>\n",
       "      <td>NaN</td>\n",
       "    </tr>\n",
       "  </tbody>\n",
       "</table>\n",
       "</div>"
      ],
      "text/plain": [
       "     STATISTIC                           STATISTIC Label  TLIST(M1)  \\\n",
       "2515     AKM02  Milk Sales (Dairy) for Human Consumption     202112   \n",
       "2516     AKM02  Milk Sales (Dairy) for Human Consumption     202112   \n",
       "2517     AKM02  Milk Sales (Dairy) for Human Consumption     202112   \n",
       "2518     AKM02  Milk Sales (Dairy) for Human Consumption     202112   \n",
       "2519     AKM02  Milk Sales (Dairy) for Human Consumption     202112   \n",
       "\n",
       "            Date  C02064V02491                   Type of Milk            UNIT  \\\n",
       "2515  01/12/2021             1                       All Milk  Million Litres   \n",
       "2516  01/12/2021            12                     Whole Milk  Million Litres   \n",
       "2517  01/12/2021            13  Skimmed and Semi-skimmed milk  Million Litres   \n",
       "2518  01/12/2021            14                   Skimmed Milk  Million Litres   \n",
       "2519  01/12/2021            15              Semi-skimmed milk  Million Litres   \n",
       "\n",
       "     VALUE  \n",
       "2515  39.7  \n",
       "2516  24.5  \n",
       "2517  15.2  \n",
       "2518   NaN  \n",
       "2519   NaN  "
      ]
     },
     "execution_count": 5,
     "metadata": {},
     "output_type": "execute_result"
    }
   ],
   "source": [
    "df.tail()"
   ]
  },
  {
   "cell_type": "code",
   "execution_count": 6,
   "metadata": {
    "scrolled": false
   },
   "outputs": [
    {
     "data": {
      "text/plain": [
       "array(['All Milk', 'Whole Milk', 'Skimmed and Semi-skimmed milk',\n",
       "       'Skimmed Milk', 'Semi-skimmed milk'], dtype=object)"
      ]
     },
     "execution_count": 6,
     "metadata": {},
     "output_type": "execute_result"
    }
   ],
   "source": [
    "df['Type of Milk'].unique()"
   ]
  },
  {
   "cell_type": "code",
   "execution_count": 7,
   "metadata": {},
   "outputs": [],
   "source": [
    "df.drop(df[df['C02064V02491'] != 1].index, inplace = True)"
   ]
  },
  {
   "cell_type": "code",
   "execution_count": 8,
   "metadata": {
    "scrolled": true
   },
   "outputs": [
    {
     "data": {
      "text/html": [
       "<div>\n",
       "<style scoped>\n",
       "    .dataframe tbody tr th:only-of-type {\n",
       "        vertical-align: middle;\n",
       "    }\n",
       "\n",
       "    .dataframe tbody tr th {\n",
       "        vertical-align: top;\n",
       "    }\n",
       "\n",
       "    .dataframe thead th {\n",
       "        text-align: right;\n",
       "    }\n",
       "</style>\n",
       "<table border=\"1\" class=\"dataframe\">\n",
       "  <thead>\n",
       "    <tr style=\"text-align: right;\">\n",
       "      <th></th>\n",
       "      <th>STATISTIC</th>\n",
       "      <th>STATISTIC Label</th>\n",
       "      <th>TLIST(M1)</th>\n",
       "      <th>Date</th>\n",
       "      <th>C02064V02491</th>\n",
       "      <th>Type of Milk</th>\n",
       "      <th>UNIT</th>\n",
       "      <th>VALUE</th>\n",
       "    </tr>\n",
       "  </thead>\n",
       "  <tbody>\n",
       "    <tr>\n",
       "      <th>0</th>\n",
       "      <td>AKM02</td>\n",
       "      <td>Milk Sales (Dairy) for Human Consumption</td>\n",
       "      <td>198001</td>\n",
       "      <td>01/01/1980</td>\n",
       "      <td>1</td>\n",
       "      <td>All Milk</td>\n",
       "      <td>Million Litres</td>\n",
       "      <td>38.2</td>\n",
       "    </tr>\n",
       "    <tr>\n",
       "      <th>5</th>\n",
       "      <td>AKM02</td>\n",
       "      <td>Milk Sales (Dairy) for Human Consumption</td>\n",
       "      <td>198002</td>\n",
       "      <td>01/02/1980</td>\n",
       "      <td>1</td>\n",
       "      <td>All Milk</td>\n",
       "      <td>Million Litres</td>\n",
       "      <td>36.6</td>\n",
       "    </tr>\n",
       "    <tr>\n",
       "      <th>10</th>\n",
       "      <td>AKM02</td>\n",
       "      <td>Milk Sales (Dairy) for Human Consumption</td>\n",
       "      <td>198003</td>\n",
       "      <td>01/03/1980</td>\n",
       "      <td>1</td>\n",
       "      <td>All Milk</td>\n",
       "      <td>Million Litres</td>\n",
       "      <td>38.4</td>\n",
       "    </tr>\n",
       "    <tr>\n",
       "      <th>15</th>\n",
       "      <td>AKM02</td>\n",
       "      <td>Milk Sales (Dairy) for Human Consumption</td>\n",
       "      <td>198004</td>\n",
       "      <td>01/04/1980</td>\n",
       "      <td>1</td>\n",
       "      <td>All Milk</td>\n",
       "      <td>Million Litres</td>\n",
       "      <td>36.8</td>\n",
       "    </tr>\n",
       "    <tr>\n",
       "      <th>20</th>\n",
       "      <td>AKM02</td>\n",
       "      <td>Milk Sales (Dairy) for Human Consumption</td>\n",
       "      <td>198005</td>\n",
       "      <td>01/05/1980</td>\n",
       "      <td>1</td>\n",
       "      <td>All Milk</td>\n",
       "      <td>Million Litres</td>\n",
       "      <td>38.8</td>\n",
       "    </tr>\n",
       "  </tbody>\n",
       "</table>\n",
       "</div>"
      ],
      "text/plain": [
       "   STATISTIC                           STATISTIC Label  TLIST(M1)        Date  \\\n",
       "0      AKM02  Milk Sales (Dairy) for Human Consumption     198001  01/01/1980   \n",
       "5      AKM02  Milk Sales (Dairy) for Human Consumption     198002  01/02/1980   \n",
       "10     AKM02  Milk Sales (Dairy) for Human Consumption     198003  01/03/1980   \n",
       "15     AKM02  Milk Sales (Dairy) for Human Consumption     198004  01/04/1980   \n",
       "20     AKM02  Milk Sales (Dairy) for Human Consumption     198005  01/05/1980   \n",
       "\n",
       "    C02064V02491 Type of Milk            UNIT VALUE  \n",
       "0              1     All Milk  Million Litres  38.2  \n",
       "5              1     All Milk  Million Litres  36.6  \n",
       "10             1     All Milk  Million Litres  38.4  \n",
       "15             1     All Milk  Million Litres  36.8  \n",
       "20             1     All Milk  Million Litres  38.8  "
      ]
     },
     "execution_count": 8,
     "metadata": {},
     "output_type": "execute_result"
    }
   ],
   "source": [
    "df.head()"
   ]
  },
  {
   "cell_type": "markdown",
   "metadata": {},
   "source": [
    "We will focus on milk type all milk, this is the sum of all 4 milk types. The reason for this is there have been chnages since 1980 in type of milk the consumer prefers, for example, increase in preference for skimmed and semi skimmed milk with heightened consumer awareness of fat content and milk companies advertising lower fat content milk. This product has a greater return."
   ]
  },
  {
   "cell_type": "code",
   "execution_count": 9,
   "metadata": {
    "scrolled": true
   },
   "outputs": [
    {
     "data": {
      "text/plain": [
       "(504, 8)"
      ]
     },
     "execution_count": 9,
     "metadata": {},
     "output_type": "execute_result"
    }
   ],
   "source": [
    "df.shape"
   ]
  },
  {
   "cell_type": "code",
   "execution_count": 10,
   "metadata": {},
   "outputs": [
    {
     "data": {
      "text/plain": [
       "False"
      ]
     },
     "execution_count": 10,
     "metadata": {},
     "output_type": "execute_result"
    }
   ],
   "source": [
    "df.isnull().values.any()"
   ]
  },
  {
   "cell_type": "code",
   "execution_count": 11,
   "metadata": {},
   "outputs": [
    {
     "data": {
      "text/plain": [
       "0"
      ]
     },
     "execution_count": 11,
     "metadata": {},
     "output_type": "execute_result"
    }
   ],
   "source": [
    "df.isnull().values.sum()"
   ]
  },
  {
   "cell_type": "code",
   "execution_count": 12,
   "metadata": {},
   "outputs": [],
   "source": [
    "df['Date'] = pd.to_datetime(df['Date'])"
   ]
  },
  {
   "cell_type": "code",
   "execution_count": 13,
   "metadata": {},
   "outputs": [
    {
     "name": "stdout",
     "output_type": "stream",
     "text": [
      "<class 'pandas.core.frame.DataFrame'>\n",
      "Int64Index: 504 entries, 0 to 2515\n",
      "Data columns (total 8 columns):\n",
      " #   Column           Non-Null Count  Dtype         \n",
      "---  ------           --------------  -----         \n",
      " 0   STATISTIC        504 non-null    object        \n",
      " 1   STATISTIC Label  504 non-null    object        \n",
      " 2   TLIST(M1)        504 non-null    int64         \n",
      " 3   Date             504 non-null    datetime64[ns]\n",
      " 4   C02064V02491     504 non-null    int64         \n",
      " 5   Type of Milk     504 non-null    object        \n",
      " 6   UNIT             504 non-null    object        \n",
      " 7   VALUE            504 non-null    object        \n",
      "dtypes: datetime64[ns](1), int64(2), object(5)\n",
      "memory usage: 35.4+ KB\n"
     ]
    }
   ],
   "source": [
    "df.info()"
   ]
  },
  {
   "cell_type": "code",
   "execution_count": 14,
   "metadata": {},
   "outputs": [
    {
     "name": "stdout",
     "output_type": "stream",
     "text": [
      "0       Milk Sales\n",
      "5       Milk Sales\n",
      "10      Milk Sales\n",
      "15      Milk Sales\n",
      "20      Milk Sales\n",
      "           ...    \n",
      "2495    Milk Sales\n",
      "2500    Milk Sales\n",
      "2505    Milk Sales\n",
      "2510    Milk Sales\n",
      "2515    Milk Sales\n",
      "Name: STATISTIC Label, Length: 504, dtype: object\n"
     ]
    }
   ],
   "source": [
    "df['STATISTIC Label'] = df['STATISTIC Label'].map(lambda x: str(x)[:-30])\n",
    "print(df['STATISTIC Label'])"
   ]
  },
  {
   "cell_type": "code",
   "execution_count": 15,
   "metadata": {},
   "outputs": [
    {
     "data": {
      "text/html": [
       "<div>\n",
       "<style scoped>\n",
       "    .dataframe tbody tr th:only-of-type {\n",
       "        vertical-align: middle;\n",
       "    }\n",
       "\n",
       "    .dataframe tbody tr th {\n",
       "        vertical-align: top;\n",
       "    }\n",
       "\n",
       "    .dataframe thead th {\n",
       "        text-align: right;\n",
       "    }\n",
       "</style>\n",
       "<table border=\"1\" class=\"dataframe\">\n",
       "  <thead>\n",
       "    <tr style=\"text-align: right;\">\n",
       "      <th></th>\n",
       "      <th>STATISTIC</th>\n",
       "      <th>STATISTIC Label</th>\n",
       "      <th>TLIST(M1)</th>\n",
       "      <th>Date</th>\n",
       "      <th>C02064V02491</th>\n",
       "      <th>Type of Milk</th>\n",
       "      <th>UNIT</th>\n",
       "      <th>VALUE</th>\n",
       "    </tr>\n",
       "  </thead>\n",
       "  <tbody>\n",
       "    <tr>\n",
       "      <th>2465</th>\n",
       "      <td>AKM02</td>\n",
       "      <td>Milk Sales</td>\n",
       "      <td>202102</td>\n",
       "      <td>2021-01-02</td>\n",
       "      <td>1</td>\n",
       "      <td>All Milk</td>\n",
       "      <td>Million Litres</td>\n",
       "      <td>36.3</td>\n",
       "    </tr>\n",
       "    <tr>\n",
       "      <th>65</th>\n",
       "      <td>AKM02</td>\n",
       "      <td>Milk Sales</td>\n",
       "      <td>198102</td>\n",
       "      <td>1981-01-02</td>\n",
       "      <td>1</td>\n",
       "      <td>All Milk</td>\n",
       "      <td>Million Litres</td>\n",
       "      <td>36.3</td>\n",
       "    </tr>\n",
       "    <tr>\n",
       "      <th>5</th>\n",
       "      <td>AKM02</td>\n",
       "      <td>Milk Sales</td>\n",
       "      <td>198002</td>\n",
       "      <td>1980-01-02</td>\n",
       "      <td>1</td>\n",
       "      <td>All Milk</td>\n",
       "      <td>Million Litres</td>\n",
       "      <td>36.6</td>\n",
       "    </tr>\n",
       "    <tr>\n",
       "      <th>2045</th>\n",
       "      <td>AKM02</td>\n",
       "      <td>Milk Sales</td>\n",
       "      <td>201402</td>\n",
       "      <td>2014-01-02</td>\n",
       "      <td>1</td>\n",
       "      <td>All Milk</td>\n",
       "      <td>Million Litres</td>\n",
       "      <td>36.6</td>\n",
       "    </tr>\n",
       "    <tr>\n",
       "      <th>50</th>\n",
       "      <td>AKM02</td>\n",
       "      <td>Milk Sales</td>\n",
       "      <td>198011</td>\n",
       "      <td>1980-01-11</td>\n",
       "      <td>1</td>\n",
       "      <td>All Milk</td>\n",
       "      <td>Million Litres</td>\n",
       "      <td>36.8</td>\n",
       "    </tr>\n",
       "    <tr>\n",
       "      <th>...</th>\n",
       "      <td>...</td>\n",
       "      <td>...</td>\n",
       "      <td>...</td>\n",
       "      <td>...</td>\n",
       "      <td>...</td>\n",
       "      <td>...</td>\n",
       "      <td>...</td>\n",
       "      <td>...</td>\n",
       "    </tr>\n",
       "    <tr>\n",
       "      <th>2430</th>\n",
       "      <td>AKM02</td>\n",
       "      <td>Milk Sales</td>\n",
       "      <td>202007</td>\n",
       "      <td>2020-01-07</td>\n",
       "      <td>1</td>\n",
       "      <td>All Milk</td>\n",
       "      <td>Million Litres</td>\n",
       "      <td>47.4</td>\n",
       "    </tr>\n",
       "    <tr>\n",
       "      <th>1115</th>\n",
       "      <td>AKM02</td>\n",
       "      <td>Milk Sales</td>\n",
       "      <td>199808</td>\n",
       "      <td>1998-01-08</td>\n",
       "      <td>1</td>\n",
       "      <td>All Milk</td>\n",
       "      <td>Million Litres</td>\n",
       "      <td>47.5</td>\n",
       "    </tr>\n",
       "    <tr>\n",
       "      <th>2245</th>\n",
       "      <td>AKM02</td>\n",
       "      <td>Milk Sales</td>\n",
       "      <td>201706</td>\n",
       "      <td>2017-01-06</td>\n",
       "      <td>1</td>\n",
       "      <td>All Milk</td>\n",
       "      <td>Million Litres</td>\n",
       "      <td>47.5</td>\n",
       "    </tr>\n",
       "    <tr>\n",
       "      <th>995</th>\n",
       "      <td>AKM02</td>\n",
       "      <td>Milk Sales</td>\n",
       "      <td>199608</td>\n",
       "      <td>1996-01-08</td>\n",
       "      <td>1</td>\n",
       "      <td>All Milk</td>\n",
       "      <td>Million Litres</td>\n",
       "      <td>47.6</td>\n",
       "    </tr>\n",
       "    <tr>\n",
       "      <th>1390</th>\n",
       "      <td>AKM02</td>\n",
       "      <td>Milk Sales</td>\n",
       "      <td>200303</td>\n",
       "      <td>2003-01-03</td>\n",
       "      <td>1</td>\n",
       "      <td>All Milk</td>\n",
       "      <td>Million Litres</td>\n",
       "      <td>48.2</td>\n",
       "    </tr>\n",
       "  </tbody>\n",
       "</table>\n",
       "<p>504 rows × 8 columns</p>\n",
       "</div>"
      ],
      "text/plain": [
       "     STATISTIC STATISTIC Label  TLIST(M1)       Date  C02064V02491  \\\n",
       "2465     AKM02      Milk Sales     202102 2021-01-02             1   \n",
       "65       AKM02      Milk Sales     198102 1981-01-02             1   \n",
       "5        AKM02      Milk Sales     198002 1980-01-02             1   \n",
       "2045     AKM02      Milk Sales     201402 2014-01-02             1   \n",
       "50       AKM02      Milk Sales     198011 1980-01-11             1   \n",
       "...        ...             ...        ...        ...           ...   \n",
       "2430     AKM02      Milk Sales     202007 2020-01-07             1   \n",
       "1115     AKM02      Milk Sales     199808 1998-01-08             1   \n",
       "2245     AKM02      Milk Sales     201706 2017-01-06             1   \n",
       "995      AKM02      Milk Sales     199608 1996-01-08             1   \n",
       "1390     AKM02      Milk Sales     200303 2003-01-03             1   \n",
       "\n",
       "     Type of Milk            UNIT VALUE  \n",
       "2465     All Milk  Million Litres  36.3  \n",
       "65       All Milk  Million Litres  36.3  \n",
       "5        All Milk  Million Litres  36.6  \n",
       "2045     All Milk  Million Litres  36.6  \n",
       "50       All Milk  Million Litres  36.8  \n",
       "...           ...             ...   ...  \n",
       "2430     All Milk  Million Litres  47.4  \n",
       "1115     All Milk  Million Litres  47.5  \n",
       "2245     All Milk  Million Litres  47.5  \n",
       "995      All Milk  Million Litres  47.6  \n",
       "1390     All Milk  Million Litres  48.2  \n",
       "\n",
       "[504 rows x 8 columns]"
      ]
     },
     "execution_count": 15,
     "metadata": {},
     "output_type": "execute_result"
    }
   ],
   "source": [
    "df.sort_values('VALUE')"
   ]
  },
  {
   "cell_type": "code",
   "execution_count": 16,
   "metadata": {},
   "outputs": [
    {
     "data": {
      "text/plain": [
       "(504, 8)"
      ]
     },
     "execution_count": 16,
     "metadata": {},
     "output_type": "execute_result"
    }
   ],
   "source": [
    "df.shape"
   ]
  },
  {
   "cell_type": "code",
   "execution_count": 17,
   "metadata": {
    "scrolled": false
   },
   "outputs": [
    {
     "name": "stdout",
     "output_type": "stream",
     "text": [
      "<class 'pandas.core.frame.DataFrame'>\n",
      "Int64Index: 504 entries, 0 to 2515\n",
      "Data columns (total 8 columns):\n",
      " #   Column           Non-Null Count  Dtype         \n",
      "---  ------           --------------  -----         \n",
      " 0   STATISTIC        504 non-null    object        \n",
      " 1   STATISTIC Label  504 non-null    object        \n",
      " 2   TLIST(M1)        504 non-null    int64         \n",
      " 3   Date             504 non-null    datetime64[ns]\n",
      " 4   C02064V02491     504 non-null    int64         \n",
      " 5   Type of Milk     504 non-null    object        \n",
      " 6   UNIT             504 non-null    object        \n",
      " 7   VALUE            504 non-null    object        \n",
      "dtypes: datetime64[ns](1), int64(2), object(5)\n",
      "memory usage: 35.4+ KB\n"
     ]
    }
   ],
   "source": [
    "df.info()"
   ]
  },
  {
   "cell_type": "code",
   "execution_count": 18,
   "metadata": {},
   "outputs": [],
   "source": [
    " df = df.rename(columns={\"VALUE\":\"million_litres\"})"
   ]
  },
  {
   "cell_type": "code",
   "execution_count": 19,
   "metadata": {},
   "outputs": [
    {
     "name": "stdout",
     "output_type": "stream",
     "text": [
      "<class 'pandas.core.frame.DataFrame'>\n",
      "Int64Index: 504 entries, 0 to 2515\n",
      "Data columns (total 4 columns):\n",
      " #   Column           Non-Null Count  Dtype         \n",
      "---  ------           --------------  -----         \n",
      " 0   STATISTIC Label  504 non-null    object        \n",
      " 1   Date             504 non-null    datetime64[ns]\n",
      " 2   Type of Milk     504 non-null    object        \n",
      " 3   million_litres   504 non-null    object        \n",
      "dtypes: datetime64[ns](1), object(3)\n",
      "memory usage: 19.7+ KB\n"
     ]
    }
   ],
   "source": [
    "df.drop(['STATISTIC', 'C02064V02491', 'UNIT', 'TLIST(M1)'], axis =1, inplace=True)\n",
    "df.info()"
   ]
  },
  {
   "cell_type": "code",
   "execution_count": 20,
   "metadata": {},
   "outputs": [
    {
     "name": "stdout",
     "output_type": "stream",
     "text": [
      "<class 'pandas.core.frame.DataFrame'>\n",
      "Int64Index: 504 entries, 0 to 2515\n",
      "Data columns (total 2 columns):\n",
      " #   Column          Non-Null Count  Dtype         \n",
      "---  ------          --------------  -----         \n",
      " 0   Date            504 non-null    datetime64[ns]\n",
      " 1   million_litres  504 non-null    object        \n",
      "dtypes: datetime64[ns](1), object(1)\n",
      "memory usage: 11.8+ KB\n"
     ]
    }
   ],
   "source": [
    "df.drop(['STATISTIC Label', 'Type of Milk'], axis =1, inplace=True)\n",
    "df.info()"
   ]
  },
  {
   "cell_type": "code",
   "execution_count": 21,
   "metadata": {},
   "outputs": [
    {
     "data": {
      "text/plain": [
       "(504, 2)"
      ]
     },
     "execution_count": 21,
     "metadata": {},
     "output_type": "execute_result"
    }
   ],
   "source": [
    "df.shape"
   ]
  },
  {
   "cell_type": "code",
   "execution_count": 22,
   "metadata": {},
   "outputs": [],
   "source": [
    "df['million_litres'] = df['million_litres'].astype(float)"
   ]
  },
  {
   "cell_type": "code",
   "execution_count": 23,
   "metadata": {
    "scrolled": true
   },
   "outputs": [
    {
     "name": "stdout",
     "output_type": "stream",
     "text": [
      "<class 'pandas.core.frame.DataFrame'>\n",
      "Int64Index: 504 entries, 0 to 2515\n",
      "Data columns (total 2 columns):\n",
      " #   Column          Non-Null Count  Dtype         \n",
      "---  ------          --------------  -----         \n",
      " 0   Date            504 non-null    datetime64[ns]\n",
      " 1   million_litres  504 non-null    float64       \n",
      "dtypes: datetime64[ns](1), float64(1)\n",
      "memory usage: 11.8 KB\n"
     ]
    }
   ],
   "source": [
    "df.info()"
   ]
  },
  {
   "cell_type": "code",
   "execution_count": 24,
   "metadata": {},
   "outputs": [
    {
     "data": {
      "text/html": [
       "<div>\n",
       "<style scoped>\n",
       "    .dataframe tbody tr th:only-of-type {\n",
       "        vertical-align: middle;\n",
       "    }\n",
       "\n",
       "    .dataframe tbody tr th {\n",
       "        vertical-align: top;\n",
       "    }\n",
       "\n",
       "    .dataframe thead th {\n",
       "        text-align: right;\n",
       "    }\n",
       "</style>\n",
       "<table border=\"1\" class=\"dataframe\">\n",
       "  <thead>\n",
       "    <tr style=\"text-align: right;\">\n",
       "      <th></th>\n",
       "      <th>Date</th>\n",
       "      <th>million_litres</th>\n",
       "    </tr>\n",
       "  </thead>\n",
       "  <tbody>\n",
       "    <tr>\n",
       "      <th>0</th>\n",
       "      <td>1980-01-01</td>\n",
       "      <td>38.2</td>\n",
       "    </tr>\n",
       "    <tr>\n",
       "      <th>5</th>\n",
       "      <td>1980-01-02</td>\n",
       "      <td>36.6</td>\n",
       "    </tr>\n",
       "    <tr>\n",
       "      <th>10</th>\n",
       "      <td>1980-01-03</td>\n",
       "      <td>38.4</td>\n",
       "    </tr>\n",
       "    <tr>\n",
       "      <th>15</th>\n",
       "      <td>1980-01-04</td>\n",
       "      <td>36.8</td>\n",
       "    </tr>\n",
       "    <tr>\n",
       "      <th>20</th>\n",
       "      <td>1980-01-05</td>\n",
       "      <td>38.8</td>\n",
       "    </tr>\n",
       "    <tr>\n",
       "      <th>...</th>\n",
       "      <td>...</td>\n",
       "      <td>...</td>\n",
       "    </tr>\n",
       "    <tr>\n",
       "      <th>2495</th>\n",
       "      <td>2021-01-08</td>\n",
       "      <td>44.8</td>\n",
       "    </tr>\n",
       "    <tr>\n",
       "      <th>2500</th>\n",
       "      <td>2021-01-09</td>\n",
       "      <td>41.7</td>\n",
       "    </tr>\n",
       "    <tr>\n",
       "      <th>2505</th>\n",
       "      <td>2021-01-10</td>\n",
       "      <td>41.8</td>\n",
       "    </tr>\n",
       "    <tr>\n",
       "      <th>2510</th>\n",
       "      <td>2021-01-11</td>\n",
       "      <td>40.1</td>\n",
       "    </tr>\n",
       "    <tr>\n",
       "      <th>2515</th>\n",
       "      <td>2021-01-12</td>\n",
       "      <td>39.7</td>\n",
       "    </tr>\n",
       "  </tbody>\n",
       "</table>\n",
       "<p>504 rows × 2 columns</p>\n",
       "</div>"
      ],
      "text/plain": [
       "           Date  million_litres\n",
       "0    1980-01-01            38.2\n",
       "5    1980-01-02            36.6\n",
       "10   1980-01-03            38.4\n",
       "15   1980-01-04            36.8\n",
       "20   1980-01-05            38.8\n",
       "...         ...             ...\n",
       "2495 2021-01-08            44.8\n",
       "2500 2021-01-09            41.7\n",
       "2505 2021-01-10            41.8\n",
       "2510 2021-01-11            40.1\n",
       "2515 2021-01-12            39.7\n",
       "\n",
       "[504 rows x 2 columns]"
      ]
     },
     "execution_count": 24,
     "metadata": {},
     "output_type": "execute_result"
    }
   ],
   "source": [
    "df"
   ]
  },
  {
   "cell_type": "code",
   "execution_count": 25,
   "metadata": {},
   "outputs": [],
   "source": [
    "#We set the Date as index\n",
    "\n",
    "df.set_index('Date', inplace=True)"
   ]
  },
  {
   "cell_type": "code",
   "execution_count": 26,
   "metadata": {},
   "outputs": [
    {
     "data": {
      "text/html": [
       "<div>\n",
       "<style scoped>\n",
       "    .dataframe tbody tr th:only-of-type {\n",
       "        vertical-align: middle;\n",
       "    }\n",
       "\n",
       "    .dataframe tbody tr th {\n",
       "        vertical-align: top;\n",
       "    }\n",
       "\n",
       "    .dataframe thead th {\n",
       "        text-align: right;\n",
       "    }\n",
       "</style>\n",
       "<table border=\"1\" class=\"dataframe\">\n",
       "  <thead>\n",
       "    <tr style=\"text-align: right;\">\n",
       "      <th></th>\n",
       "      <th>million_litres</th>\n",
       "    </tr>\n",
       "    <tr>\n",
       "      <th>Date</th>\n",
       "      <th></th>\n",
       "    </tr>\n",
       "  </thead>\n",
       "  <tbody>\n",
       "    <tr>\n",
       "      <th>1980-01-01</th>\n",
       "      <td>38.2</td>\n",
       "    </tr>\n",
       "    <tr>\n",
       "      <th>1980-01-02</th>\n",
       "      <td>36.6</td>\n",
       "    </tr>\n",
       "    <tr>\n",
       "      <th>1980-01-03</th>\n",
       "      <td>38.4</td>\n",
       "    </tr>\n",
       "    <tr>\n",
       "      <th>1980-01-04</th>\n",
       "      <td>36.8</td>\n",
       "    </tr>\n",
       "    <tr>\n",
       "      <th>1980-01-05</th>\n",
       "      <td>38.8</td>\n",
       "    </tr>\n",
       "  </tbody>\n",
       "</table>\n",
       "</div>"
      ],
      "text/plain": [
       "            million_litres\n",
       "Date                      \n",
       "1980-01-01            38.2\n",
       "1980-01-02            36.6\n",
       "1980-01-03            38.4\n",
       "1980-01-04            36.8\n",
       "1980-01-05            38.8"
      ]
     },
     "execution_count": 26,
     "metadata": {},
     "output_type": "execute_result"
    }
   ],
   "source": [
    "df.head()"
   ]
  },
  {
   "cell_type": "code",
   "execution_count": 27,
   "metadata": {},
   "outputs": [
    {
     "data": {
      "image/png": "[encoded data removed]",
      "text/plain": [
       "<Figure size 432x288 with 1 Axes>"
      ]
     },
     "metadata": {
      "needs_background": "light"
     },
     "output_type": "display_data"
    }
   ],
   "source": [
    "#Time series plot\n",
    "\n",
    "df.plot(color = 'green')\n",
    "plt.ylabel('Milk Production million litres')\n",
    "plt.title('Time series plot')\n",
    "plt.show()"
   ]
  },
  {
   "cell_type": "code",
   "execution_count": 28,
   "metadata": {},
   "outputs": [
    {
     "data": {
      "image/png": "[encoded data removed]",
      "text/plain": [
       "<Figure size 432x288 with 1 Axes>"
      ]
     },
     "metadata": {
      "needs_background": "light"
     },
     "output_type": "display_data"
    }
   ],
   "source": [
    "df.plot(style = '.', color = 'blue')\n",
    "plt.ylabel('Milk Production million litres')\n",
    "plt.title('Scatter time series plot')\n",
    "plt.savefig('Scatter.jpg')\n",
    "\n"
   ]
  },
  {
   "cell_type": "code",
   "execution_count": 29,
   "metadata": {},
   "outputs": [],
   "source": [
    "groups = df.groupby(pd.Grouper(freq = 'A'))"
   ]
  },
  {
   "cell_type": "code",
   "execution_count": 30,
   "metadata": {},
   "outputs": [
    {
     "data": {
      "text/plain": [
       "<pandas.core.groupby.generic.DataFrameGroupBy object at 0x0000026D9FA471C0>"
      ]
     },
     "execution_count": 30,
     "metadata": {},
     "output_type": "execute_result"
    }
   ],
   "source": [
    "groups"
   ]
  },
  {
   "cell_type": "code",
   "execution_count": 31,
   "metadata": {},
   "outputs": [],
   "source": [
    "keys = groups.groups.keys()"
   ]
  },
  {
   "cell_type": "code",
   "execution_count": 32,
   "metadata": {},
   "outputs": [
    {
     "data": {
      "text/plain": [
       "dict_keys([Timestamp('1980-12-31 00:00:00', freq='A-DEC'), Timestamp('1981-12-31 00:00:00', freq='A-DEC'), Timestamp('1982-12-31 00:00:00', freq='A-DEC'), Timestamp('1983-12-31 00:00:00', freq='A-DEC'), Timestamp('1984-12-31 00:00:00', freq='A-DEC'), Timestamp('1985-12-31 00:00:00', freq='A-DEC'), Timestamp('1986-12-31 00:00:00', freq='A-DEC'), Timestamp('1987-12-31 00:00:00', freq='A-DEC'), Timestamp('1988-12-31 00:00:00', freq='A-DEC'), Timestamp('1989-12-31 00:00:00', freq='A-DEC'), Timestamp('1990-12-31 00:00:00', freq='A-DEC'), Timestamp('1991-12-31 00:00:00', freq='A-DEC'), Timestamp('1992-12-31 00:00:00', freq='A-DEC'), Timestamp('1993-12-31 00:00:00', freq='A-DEC'), Timestamp('1994-12-31 00:00:00', freq='A-DEC'), Timestamp('1995-12-31 00:00:00', freq='A-DEC'), Timestamp('1996-12-31 00:00:00', freq='A-DEC'), Timestamp('1997-12-31 00:00:00', freq='A-DEC'), Timestamp('1998-12-31 00:00:00', freq='A-DEC'), Timestamp('1999-12-31 00:00:00', freq='A-DEC'), Timestamp('2000-12-31 00:00:00', freq='A-DEC'), Timestamp('2001-12-31 00:00:00', freq='A-DEC'), Timestamp('2002-12-31 00:00:00', freq='A-DEC'), Timestamp('2003-12-31 00:00:00', freq='A-DEC'), Timestamp('2004-12-31 00:00:00', freq='A-DEC'), Timestamp('2005-12-31 00:00:00', freq='A-DEC'), Timestamp('2006-12-31 00:00:00', freq='A-DEC'), Timestamp('2007-12-31 00:00:00', freq='A-DEC'), Timestamp('2008-12-31 00:00:00', freq='A-DEC'), Timestamp('2009-12-31 00:00:00', freq='A-DEC'), Timestamp('2010-12-31 00:00:00', freq='A-DEC'), Timestamp('2011-12-31 00:00:00', freq='A-DEC'), Timestamp('2012-12-31 00:00:00', freq='A-DEC'), Timestamp('2013-12-31 00:00:00', freq='A-DEC'), Timestamp('2014-12-31 00:00:00', freq='A-DEC'), Timestamp('2015-12-31 00:00:00', freq='A-DEC'), Timestamp('2016-12-31 00:00:00', freq='A-DEC'), Timestamp('2017-12-31 00:00:00', freq='A-DEC'), Timestamp('2018-12-31 00:00:00', freq='A-DEC'), Timestamp('2019-12-31 00:00:00', freq='A-DEC'), Timestamp('2020-12-31 00:00:00', freq='A-DEC'), Timestamp('2021-12-31 00:00:00', freq='A-DEC')])"
      ]
     },
     "execution_count": 32,
     "metadata": {},
     "output_type": "execute_result"
    }
   ],
   "source": [
    "keys"
   ]
  },
  {
   "cell_type": "code",
   "execution_count": 33,
   "metadata": {},
   "outputs": [
    {
     "data": {
      "text/html": [
       "<div>\n",
       "<style scoped>\n",
       "    .dataframe tbody tr th:only-of-type {\n",
       "        vertical-align: middle;\n",
       "    }\n",
       "\n",
       "    .dataframe tbody tr th {\n",
       "        vertical-align: top;\n",
       "    }\n",
       "\n",
       "    .dataframe thead th {\n",
       "        text-align: right;\n",
       "    }\n",
       "</style>\n",
       "<table border=\"1\" class=\"dataframe\">\n",
       "  <thead>\n",
       "    <tr style=\"text-align: right;\">\n",
       "      <th></th>\n",
       "      <th>million_litres</th>\n",
       "    </tr>\n",
       "    <tr>\n",
       "      <th>Date</th>\n",
       "      <th></th>\n",
       "    </tr>\n",
       "  </thead>\n",
       "  <tbody>\n",
       "    <tr>\n",
       "      <th>1980-01-01</th>\n",
       "      <td>38.2</td>\n",
       "    </tr>\n",
       "    <tr>\n",
       "      <th>1980-01-02</th>\n",
       "      <td>36.6</td>\n",
       "    </tr>\n",
       "    <tr>\n",
       "      <th>1980-01-03</th>\n",
       "      <td>38.4</td>\n",
       "    </tr>\n",
       "    <tr>\n",
       "      <th>1980-01-04</th>\n",
       "      <td>36.8</td>\n",
       "    </tr>\n",
       "    <tr>\n",
       "      <th>1980-01-05</th>\n",
       "      <td>38.8</td>\n",
       "    </tr>\n",
       "    <tr>\n",
       "      <th>1980-01-06</th>\n",
       "      <td>37.5</td>\n",
       "    </tr>\n",
       "    <tr>\n",
       "      <th>1980-01-07</th>\n",
       "      <td>38.0</td>\n",
       "    </tr>\n",
       "    <tr>\n",
       "      <th>1980-01-08</th>\n",
       "      <td>38.2</td>\n",
       "    </tr>\n",
       "    <tr>\n",
       "      <th>1980-01-09</th>\n",
       "      <td>37.1</td>\n",
       "    </tr>\n",
       "    <tr>\n",
       "      <th>1980-01-10</th>\n",
       "      <td>37.5</td>\n",
       "    </tr>\n",
       "    <tr>\n",
       "      <th>1980-01-11</th>\n",
       "      <td>36.8</td>\n",
       "    </tr>\n",
       "    <tr>\n",
       "      <th>1980-01-12</th>\n",
       "      <td>37.3</td>\n",
       "    </tr>\n",
       "  </tbody>\n",
       "</table>\n",
       "</div>"
      ],
      "text/plain": [
       "            million_litres\n",
       "Date                      \n",
       "1980-01-01            38.2\n",
       "1980-01-02            36.6\n",
       "1980-01-03            38.4\n",
       "1980-01-04            36.8\n",
       "1980-01-05            38.8\n",
       "1980-01-06            37.5\n",
       "1980-01-07            38.0\n",
       "1980-01-08            38.2\n",
       "1980-01-09            37.1\n",
       "1980-01-10            37.5\n",
       "1980-01-11            36.8\n",
       "1980-01-12            37.3"
      ]
     },
     "execution_count": 33,
     "metadata": {},
     "output_type": "execute_result"
    }
   ],
   "source": [
    "groups.get_group('1980-12-31')"
   ]
  },
  {
   "cell_type": "code",
   "execution_count": 34,
   "metadata": {},
   "outputs": [
    {
     "name": "stdout",
     "output_type": "stream",
     "text": [
      "1980-12-31 00:00:00\n",
      "1981-12-31 00:00:00\n",
      "1982-12-31 00:00:00\n",
      "1983-12-31 00:00:00\n",
      "1984-12-31 00:00:00\n",
      "1985-12-31 00:00:00\n",
      "1986-12-31 00:00:00\n",
      "1987-12-31 00:00:00\n",
      "1988-12-31 00:00:00\n",
      "1989-12-31 00:00:00\n",
      "1990-12-31 00:00:00\n",
      "1991-12-31 00:00:00\n",
      "1992-12-31 00:00:00\n",
      "1993-12-31 00:00:00\n",
      "1994-12-31 00:00:00\n",
      "1995-12-31 00:00:00\n",
      "1996-12-31 00:00:00\n",
      "1997-12-31 00:00:00\n",
      "1998-12-31 00:00:00\n",
      "1999-12-31 00:00:00\n",
      "2000-12-31 00:00:00\n",
      "2001-12-31 00:00:00\n",
      "2002-12-31 00:00:00\n",
      "2003-12-31 00:00:00\n",
      "2004-12-31 00:00:00\n",
      "2005-12-31 00:00:00\n",
      "2006-12-31 00:00:00\n",
      "2007-12-31 00:00:00\n",
      "2008-12-31 00:00:00\n",
      "2009-12-31 00:00:00\n",
      "2010-12-31 00:00:00\n",
      "2011-12-31 00:00:00\n",
      "2012-12-31 00:00:00\n",
      "2013-12-31 00:00:00\n",
      "2014-12-31 00:00:00\n",
      "2015-12-31 00:00:00\n",
      "2016-12-31 00:00:00\n",
      "2017-12-31 00:00:00\n",
      "2018-12-31 00:00:00\n",
      "2019-12-31 00:00:00\n",
      "2020-12-31 00:00:00\n",
      "2021-12-31 00:00:00\n"
     ]
    }
   ],
   "source": [
    "for key in keys:\n",
    "    print(key)"
   ]
  },
  {
   "cell_type": "code",
   "execution_count": 35,
   "metadata": {},
   "outputs": [
    {
     "data": {
      "text/plain": [
       "Timestamp('2021-12-31 00:00:00', freq='A-DEC')"
      ]
     },
     "execution_count": 35,
     "metadata": {},
     "output_type": "execute_result"
    }
   ],
   "source": [
    "key"
   ]
  },
  {
   "cell_type": "code",
   "execution_count": 36,
   "metadata": {},
   "outputs": [
    {
     "data": {
      "text/plain": [
       "array([40.4, 36.3, 42.1, 42.9, 46.6, 44.7, 45.2, 44.8, 41.7, 41.8, 40.1,\n",
       "       39.7])"
      ]
     },
     "execution_count": 36,
     "metadata": {},
     "output_type": "execute_result"
    }
   ],
   "source": [
    "groups.get_group(key)['million_litres'].values"
   ]
  },
  {
   "cell_type": "code",
   "execution_count": 37,
   "metadata": {},
   "outputs": [],
   "source": [
    "years = pd.DataFrame()\n",
    "for key in keys:\n",
    "    years[key] = groups.get_group(key)['million_litres'].values"
   ]
  },
  {
   "cell_type": "code",
   "execution_count": 38,
   "metadata": {},
   "outputs": [
    {
     "data": {
      "text/html": [
       "<div>\n",
       "<style scoped>\n",
       "    .dataframe tbody tr th:only-of-type {\n",
       "        vertical-align: middle;\n",
       "    }\n",
       "\n",
       "    .dataframe tbody tr th {\n",
       "        vertical-align: top;\n",
       "    }\n",
       "\n",
       "    .dataframe thead th {\n",
       "        text-align: right;\n",
       "    }\n",
       "</style>\n",
       "<table border=\"1\" class=\"dataframe\">\n",
       "  <thead>\n",
       "    <tr style=\"text-align: right;\">\n",
       "      <th></th>\n",
       "      <th>1980-12-31</th>\n",
       "      <th>1981-12-31</th>\n",
       "      <th>1982-12-31</th>\n",
       "      <th>1983-12-31</th>\n",
       "      <th>1984-12-31</th>\n",
       "      <th>1985-12-31</th>\n",
       "      <th>1986-12-31</th>\n",
       "      <th>1987-12-31</th>\n",
       "      <th>1988-12-31</th>\n",
       "      <th>1989-12-31</th>\n",
       "      <th>...</th>\n",
       "      <th>2012-12-31</th>\n",
       "      <th>2013-12-31</th>\n",
       "      <th>2014-12-31</th>\n",
       "      <th>2015-12-31</th>\n",
       "      <th>2016-12-31</th>\n",
       "      <th>2017-12-31</th>\n",
       "      <th>2018-12-31</th>\n",
       "      <th>2019-12-31</th>\n",
       "      <th>2020-12-31</th>\n",
       "      <th>2021-12-31</th>\n",
       "    </tr>\n",
       "  </thead>\n",
       "  <tbody>\n",
       "    <tr>\n",
       "      <th>0</th>\n",
       "      <td>38.2</td>\n",
       "      <td>39.0</td>\n",
       "      <td>40.3</td>\n",
       "      <td>42.0</td>\n",
       "      <td>42.4</td>\n",
       "      <td>43.2</td>\n",
       "      <td>43.2</td>\n",
       "      <td>42.7</td>\n",
       "      <td>41.3</td>\n",
       "      <td>40.8</td>\n",
       "      <td>...</td>\n",
       "      <td>40.7</td>\n",
       "      <td>40.8</td>\n",
       "      <td>40.4</td>\n",
       "      <td>42.9</td>\n",
       "      <td>42.5</td>\n",
       "      <td>44.4</td>\n",
       "      <td>45.4</td>\n",
       "      <td>44.8</td>\n",
       "      <td>43.1</td>\n",
       "      <td>40.4</td>\n",
       "    </tr>\n",
       "    <tr>\n",
       "      <th>1</th>\n",
       "      <td>36.6</td>\n",
       "      <td>36.3</td>\n",
       "      <td>39.2</td>\n",
       "      <td>39.3</td>\n",
       "      <td>41.2</td>\n",
       "      <td>40.2</td>\n",
       "      <td>40.0</td>\n",
       "      <td>39.2</td>\n",
       "      <td>39.6</td>\n",
       "      <td>38.5</td>\n",
       "      <td>...</td>\n",
       "      <td>38.8</td>\n",
       "      <td>37.2</td>\n",
       "      <td>36.6</td>\n",
       "      <td>38.7</td>\n",
       "      <td>41.4</td>\n",
       "      <td>40.8</td>\n",
       "      <td>43.3</td>\n",
       "      <td>41.9</td>\n",
       "      <td>42.5</td>\n",
       "      <td>36.3</td>\n",
       "    </tr>\n",
       "    <tr>\n",
       "      <th>2</th>\n",
       "      <td>38.4</td>\n",
       "      <td>39.8</td>\n",
       "      <td>43.4</td>\n",
       "      <td>43.5</td>\n",
       "      <td>45.6</td>\n",
       "      <td>43.6</td>\n",
       "      <td>42.8</td>\n",
       "      <td>43.3</td>\n",
       "      <td>42.4</td>\n",
       "      <td>43.2</td>\n",
       "      <td>...</td>\n",
       "      <td>43.0</td>\n",
       "      <td>41.2</td>\n",
       "      <td>44.1</td>\n",
       "      <td>45.3</td>\n",
       "      <td>43.9</td>\n",
       "      <td>46.5</td>\n",
       "      <td>46.8</td>\n",
       "      <td>46.7</td>\n",
       "      <td>45.8</td>\n",
       "      <td>42.1</td>\n",
       "    </tr>\n",
       "    <tr>\n",
       "      <th>3</th>\n",
       "      <td>36.8</td>\n",
       "      <td>39.6</td>\n",
       "      <td>42.5</td>\n",
       "      <td>42.3</td>\n",
       "      <td>41.8</td>\n",
       "      <td>42.0</td>\n",
       "      <td>42.1</td>\n",
       "      <td>41.3</td>\n",
       "      <td>40.8</td>\n",
       "      <td>40.4</td>\n",
       "      <td>...</td>\n",
       "      <td>39.2</td>\n",
       "      <td>40.2</td>\n",
       "      <td>36.9</td>\n",
       "      <td>39.6</td>\n",
       "      <td>43.7</td>\n",
       "      <td>43.8</td>\n",
       "      <td>44.4</td>\n",
       "      <td>45.2</td>\n",
       "      <td>47.1</td>\n",
       "      <td>42.9</td>\n",
       "    </tr>\n",
       "    <tr>\n",
       "      <th>4</th>\n",
       "      <td>38.8</td>\n",
       "      <td>39.5</td>\n",
       "      <td>43.1</td>\n",
       "      <td>43.4</td>\n",
       "      <td>44.7</td>\n",
       "      <td>43.8</td>\n",
       "      <td>42.9</td>\n",
       "      <td>42.5</td>\n",
       "      <td>41.7</td>\n",
       "      <td>41.8</td>\n",
       "      <td>...</td>\n",
       "      <td>41.1</td>\n",
       "      <td>41.0</td>\n",
       "      <td>42.2</td>\n",
       "      <td>43.8</td>\n",
       "      <td>45.4</td>\n",
       "      <td>46.6</td>\n",
       "      <td>47.0</td>\n",
       "      <td>45.3</td>\n",
       "      <td>47.3</td>\n",
       "      <td>46.6</td>\n",
       "    </tr>\n",
       "    <tr>\n",
       "      <th>5</th>\n",
       "      <td>37.5</td>\n",
       "      <td>38.8</td>\n",
       "      <td>41.4</td>\n",
       "      <td>42.4</td>\n",
       "      <td>42.6</td>\n",
       "      <td>42.1</td>\n",
       "      <td>40.5</td>\n",
       "      <td>41.2</td>\n",
       "      <td>40.8</td>\n",
       "      <td>42.9</td>\n",
       "      <td>...</td>\n",
       "      <td>40.8</td>\n",
       "      <td>39.1</td>\n",
       "      <td>40.5</td>\n",
       "      <td>41.7</td>\n",
       "      <td>43.2</td>\n",
       "      <td>47.5</td>\n",
       "      <td>43.9</td>\n",
       "      <td>45.0</td>\n",
       "      <td>45.7</td>\n",
       "      <td>44.7</td>\n",
       "    </tr>\n",
       "    <tr>\n",
       "      <th>6</th>\n",
       "      <td>38.0</td>\n",
       "      <td>40.1</td>\n",
       "      <td>42.7</td>\n",
       "      <td>44.1</td>\n",
       "      <td>43.3</td>\n",
       "      <td>43.7</td>\n",
       "      <td>42.1</td>\n",
       "      <td>42.7</td>\n",
       "      <td>41.0</td>\n",
       "      <td>41.7</td>\n",
       "      <td>...</td>\n",
       "      <td>40.4</td>\n",
       "      <td>39.5</td>\n",
       "      <td>39.8</td>\n",
       "      <td>43.2</td>\n",
       "      <td>44.7</td>\n",
       "      <td>44.9</td>\n",
       "      <td>43.5</td>\n",
       "      <td>44.7</td>\n",
       "      <td>47.4</td>\n",
       "      <td>45.2</td>\n",
       "    </tr>\n",
       "    <tr>\n",
       "      <th>7</th>\n",
       "      <td>38.2</td>\n",
       "      <td>40.1</td>\n",
       "      <td>41.7</td>\n",
       "      <td>43.4</td>\n",
       "      <td>43.6</td>\n",
       "      <td>43.3</td>\n",
       "      <td>41.4</td>\n",
       "      <td>41.9</td>\n",
       "      <td>40.9</td>\n",
       "      <td>42.0</td>\n",
       "      <td>...</td>\n",
       "      <td>41.6</td>\n",
       "      <td>40.7</td>\n",
       "      <td>39.2</td>\n",
       "      <td>43.5</td>\n",
       "      <td>45.0</td>\n",
       "      <td>45.4</td>\n",
       "      <td>44.9</td>\n",
       "      <td>45.1</td>\n",
       "      <td>44.4</td>\n",
       "      <td>44.8</td>\n",
       "    </tr>\n",
       "    <tr>\n",
       "      <th>8</th>\n",
       "      <td>37.1</td>\n",
       "      <td>39.6</td>\n",
       "      <td>42.2</td>\n",
       "      <td>42.1</td>\n",
       "      <td>42.3</td>\n",
       "      <td>41.2</td>\n",
       "      <td>41.5</td>\n",
       "      <td>41.4</td>\n",
       "      <td>41.5</td>\n",
       "      <td>43.6</td>\n",
       "      <td>...</td>\n",
       "      <td>39.5</td>\n",
       "      <td>39.1</td>\n",
       "      <td>39.2</td>\n",
       "      <td>42.2</td>\n",
       "      <td>44.4</td>\n",
       "      <td>44.7</td>\n",
       "      <td>43.8</td>\n",
       "      <td>43.4</td>\n",
       "      <td>41.7</td>\n",
       "      <td>41.7</td>\n",
       "    </tr>\n",
       "    <tr>\n",
       "      <th>9</th>\n",
       "      <td>37.5</td>\n",
       "      <td>38.8</td>\n",
       "      <td>42.9</td>\n",
       "      <td>42.6</td>\n",
       "      <td>43.8</td>\n",
       "      <td>44.1</td>\n",
       "      <td>43.0</td>\n",
       "      <td>42.3</td>\n",
       "      <td>41.0</td>\n",
       "      <td>41.2</td>\n",
       "      <td>...</td>\n",
       "      <td>41.0</td>\n",
       "      <td>40.4</td>\n",
       "      <td>40.1</td>\n",
       "      <td>43.4</td>\n",
       "      <td>44.8</td>\n",
       "      <td>45.0</td>\n",
       "      <td>45.2</td>\n",
       "      <td>45.4</td>\n",
       "      <td>41.1</td>\n",
       "      <td>41.8</td>\n",
       "    </tr>\n",
       "    <tr>\n",
       "      <th>10</th>\n",
       "      <td>36.8</td>\n",
       "      <td>38.8</td>\n",
       "      <td>42.0</td>\n",
       "      <td>41.8</td>\n",
       "      <td>42.4</td>\n",
       "      <td>42.5</td>\n",
       "      <td>40.7</td>\n",
       "      <td>40.6</td>\n",
       "      <td>41.0</td>\n",
       "      <td>40.0</td>\n",
       "      <td>...</td>\n",
       "      <td>40.9</td>\n",
       "      <td>40.5</td>\n",
       "      <td>41.2</td>\n",
       "      <td>41.8</td>\n",
       "      <td>44.0</td>\n",
       "      <td>44.2</td>\n",
       "      <td>44.6</td>\n",
       "      <td>43.7</td>\n",
       "      <td>39.5</td>\n",
       "      <td>40.1</td>\n",
       "    </tr>\n",
       "    <tr>\n",
       "      <th>11</th>\n",
       "      <td>37.3</td>\n",
       "      <td>39.3</td>\n",
       "      <td>41.1</td>\n",
       "      <td>41.5</td>\n",
       "      <td>41.9</td>\n",
       "      <td>42.6</td>\n",
       "      <td>41.0</td>\n",
       "      <td>41.2</td>\n",
       "      <td>41.6</td>\n",
       "      <td>42.4</td>\n",
       "      <td>...</td>\n",
       "      <td>40.0</td>\n",
       "      <td>39.4</td>\n",
       "      <td>42.0</td>\n",
       "      <td>41.7</td>\n",
       "      <td>44.1</td>\n",
       "      <td>44.4</td>\n",
       "      <td>44.1</td>\n",
       "      <td>41.8</td>\n",
       "      <td>39.9</td>\n",
       "      <td>39.7</td>\n",
       "    </tr>\n",
       "  </tbody>\n",
       "</table>\n",
       "<p>12 rows × 42 columns</p>\n",
       "</div>"
      ],
      "text/plain": [
       "    1980-12-31  1981-12-31  1982-12-31  1983-12-31  1984-12-31  1985-12-31  \\\n",
       "0         38.2        39.0        40.3        42.0        42.4        43.2   \n",
       "1         36.6        36.3        39.2        39.3        41.2        40.2   \n",
       "2         38.4        39.8        43.4        43.5        45.6        43.6   \n",
       "3         36.8        39.6        42.5        42.3        41.8        42.0   \n",
       "4         38.8        39.5        43.1        43.4        44.7        43.8   \n",
       "5         37.5        38.8        41.4        42.4        42.6        42.1   \n",
       "6         38.0        40.1        42.7        44.1        43.3        43.7   \n",
       "7         38.2        40.1        41.7        43.4        43.6        43.3   \n",
       "8         37.1        39.6        42.2        42.1        42.3        41.2   \n",
       "9         37.5        38.8        42.9        42.6        43.8        44.1   \n",
       "10        36.8        38.8        42.0        41.8        42.4        42.5   \n",
       "11        37.3        39.3        41.1        41.5        41.9        42.6   \n",
       "\n",
       "    1986-12-31  1987-12-31  1988-12-31  1989-12-31  ...  2012-12-31  \\\n",
       "0         43.2        42.7        41.3        40.8  ...        40.7   \n",
       "1         40.0        39.2        39.6        38.5  ...        38.8   \n",
       "2         42.8        43.3        42.4        43.2  ...        43.0   \n",
       "3         42.1        41.3        40.8        40.4  ...        39.2   \n",
       "4         42.9        42.5        41.7        41.8  ...        41.1   \n",
       "5         40.5        41.2        40.8        42.9  ...        40.8   \n",
       "6         42.1        42.7        41.0        41.7  ...        40.4   \n",
       "7         41.4        41.9        40.9        42.0  ...        41.6   \n",
       "8         41.5        41.4        41.5        43.6  ...        39.5   \n",
       "9         43.0        42.3        41.0        41.2  ...        41.0   \n",
       "10        40.7        40.6        41.0        40.0  ...        40.9   \n",
       "11        41.0        41.2        41.6        42.4  ...        40.0   \n",
       "\n",
       "    2013-12-31  2014-12-31  2015-12-31  2016-12-31  2017-12-31  2018-12-31  \\\n",
       "0         40.8        40.4        42.9        42.5        44.4        45.4   \n",
       "1         37.2        36.6        38.7        41.4        40.8        43.3   \n",
       "2         41.2        44.1        45.3        43.9        46.5        46.8   \n",
       "3         40.2        36.9        39.6        43.7        43.8        44.4   \n",
       "4         41.0        42.2        43.8        45.4        46.6        47.0   \n",
       "5         39.1        40.5        41.7        43.2        47.5        43.9   \n",
       "6         39.5        39.8        43.2        44.7        44.9        43.5   \n",
       "7         40.7        39.2        43.5        45.0        45.4        44.9   \n",
       "8         39.1        39.2        42.2        44.4        44.7        43.8   \n",
       "9         40.4        40.1        43.4        44.8        45.0        45.2   \n",
       "10        40.5        41.2        41.8        44.0        44.2        44.6   \n",
       "11        39.4        42.0        41.7        44.1        44.4        44.1   \n",
       "\n",
       "    2019-12-31  2020-12-31  2021-12-31  \n",
       "0         44.8        43.1        40.4  \n",
       "1         41.9        42.5        36.3  \n",
       "2         46.7        45.8        42.1  \n",
       "3         45.2        47.1        42.9  \n",
       "4         45.3        47.3        46.6  \n",
       "5         45.0        45.7        44.7  \n",
       "6         44.7        47.4        45.2  \n",
       "7         45.1        44.4        44.8  \n",
       "8         43.4        41.7        41.7  \n",
       "9         45.4        41.1        41.8  \n",
       "10        43.7        39.5        40.1  \n",
       "11        41.8        39.9        39.7  \n",
       "\n",
       "[12 rows x 42 columns]"
      ]
     },
     "execution_count": 38,
     "metadata": {},
     "output_type": "execute_result"
    }
   ],
   "source": [
    "years"
   ]
  },
  {
   "cell_type": "code",
   "execution_count": 39,
   "metadata": {},
   "outputs": [
    {
     "data": {
      "image/png": "[encoded data removed]",
      "text/plain": [
       "<Figure size 720x2160 with 42 Axes>"
      ]
     },
     "metadata": {
      "needs_background": "light"
     },
     "output_type": "display_data"
    }
   ],
   "source": [
    "years.plot(subplots = True, figsize = (10, 30))\n",
    "plt.savefig('Series.pdf')\n",
    "plt.tight_layout()\n"
   ]
  },
  {
   "cell_type": "markdown",
   "metadata": {},
   "source": [
    "# Manufacture Milk Price Ireland, NZ, Netherlands"
   ]
  },
  {
   "cell_type": "code",
   "execution_count": 40,
   "metadata": {},
   "outputs": [],
   "source": [
    "fao = pd.read_csv('FAOSTAT_data_en_1-4-2023 (1).csv')"
   ]
  },
  {
   "cell_type": "code",
   "execution_count": 41,
   "metadata": {},
   "outputs": [
    {
     "data": {
      "text/html": [
       "<div>\n",
       "<style scoped>\n",
       "    .dataframe tbody tr th:only-of-type {\n",
       "        vertical-align: middle;\n",
       "    }\n",
       "\n",
       "    .dataframe tbody tr th {\n",
       "        vertical-align: top;\n",
       "    }\n",
       "\n",
       "    .dataframe thead th {\n",
       "        text-align: right;\n",
       "    }\n",
       "</style>\n",
       "<table border=\"1\" class=\"dataframe\">\n",
       "  <thead>\n",
       "    <tr style=\"text-align: right;\">\n",
       "      <th></th>\n",
       "      <th>Domain Code</th>\n",
       "      <th>Domain</th>\n",
       "      <th>Area Code (M49)</th>\n",
       "      <th>Area</th>\n",
       "      <th>Element Code</th>\n",
       "      <th>Element</th>\n",
       "      <th>Item Code (CPC)</th>\n",
       "      <th>Item</th>\n",
       "      <th>Year Code</th>\n",
       "      <th>Year</th>\n",
       "      <th>Months Code</th>\n",
       "      <th>Months</th>\n",
       "      <th>Unit</th>\n",
       "      <th>Value</th>\n",
       "      <th>Flag</th>\n",
       "      <th>Flag Description</th>\n",
       "    </tr>\n",
       "  </thead>\n",
       "  <tbody>\n",
       "    <tr>\n",
       "      <th>0</th>\n",
       "      <td>PP</td>\n",
       "      <td>Producer Prices</td>\n",
       "      <td>372</td>\n",
       "      <td>Ireland</td>\n",
       "      <td>5530</td>\n",
       "      <td>Producer Price (LCU/tonne)</td>\n",
       "      <td>2211</td>\n",
       "      <td>Raw milk of cattle</td>\n",
       "      <td>1991</td>\n",
       "      <td>1991</td>\n",
       "      <td>7021</td>\n",
       "      <td>Annual value</td>\n",
       "      <td>LCU</td>\n",
       "      <td>184.0</td>\n",
       "      <td>A</td>\n",
       "      <td>Official figure</td>\n",
       "    </tr>\n",
       "    <tr>\n",
       "      <th>1</th>\n",
       "      <td>PP</td>\n",
       "      <td>Producer Prices</td>\n",
       "      <td>372</td>\n",
       "      <td>Ireland</td>\n",
       "      <td>5530</td>\n",
       "      <td>Producer Price (LCU/tonne)</td>\n",
       "      <td>2211</td>\n",
       "      <td>Raw milk of cattle</td>\n",
       "      <td>1992</td>\n",
       "      <td>1992</td>\n",
       "      <td>7021</td>\n",
       "      <td>Annual value</td>\n",
       "      <td>LCU</td>\n",
       "      <td>199.0</td>\n",
       "      <td>A</td>\n",
       "      <td>Official figure</td>\n",
       "    </tr>\n",
       "    <tr>\n",
       "      <th>2</th>\n",
       "      <td>PP</td>\n",
       "      <td>Producer Prices</td>\n",
       "      <td>372</td>\n",
       "      <td>Ireland</td>\n",
       "      <td>5530</td>\n",
       "      <td>Producer Price (LCU/tonne)</td>\n",
       "      <td>2211</td>\n",
       "      <td>Raw milk of cattle</td>\n",
       "      <td>1993</td>\n",
       "      <td>1993</td>\n",
       "      <td>7021</td>\n",
       "      <td>Annual value</td>\n",
       "      <td>LCU</td>\n",
       "      <td>214.0</td>\n",
       "      <td>A</td>\n",
       "      <td>Official figure</td>\n",
       "    </tr>\n",
       "    <tr>\n",
       "      <th>3</th>\n",
       "      <td>PP</td>\n",
       "      <td>Producer Prices</td>\n",
       "      <td>372</td>\n",
       "      <td>Ireland</td>\n",
       "      <td>5530</td>\n",
       "      <td>Producer Price (LCU/tonne)</td>\n",
       "      <td>2211</td>\n",
       "      <td>Raw milk of cattle</td>\n",
       "      <td>1994</td>\n",
       "      <td>1994</td>\n",
       "      <td>7021</td>\n",
       "      <td>Annual value</td>\n",
       "      <td>LCU</td>\n",
       "      <td>213.0</td>\n",
       "      <td>A</td>\n",
       "      <td>Official figure</td>\n",
       "    </tr>\n",
       "    <tr>\n",
       "      <th>4</th>\n",
       "      <td>PP</td>\n",
       "      <td>Producer Prices</td>\n",
       "      <td>372</td>\n",
       "      <td>Ireland</td>\n",
       "      <td>5530</td>\n",
       "      <td>Producer Price (LCU/tonne)</td>\n",
       "      <td>2211</td>\n",
       "      <td>Raw milk of cattle</td>\n",
       "      <td>1995</td>\n",
       "      <td>1995</td>\n",
       "      <td>7021</td>\n",
       "      <td>Annual value</td>\n",
       "      <td>LCU</td>\n",
       "      <td>226.0</td>\n",
       "      <td>A</td>\n",
       "      <td>Official figure</td>\n",
       "    </tr>\n",
       "  </tbody>\n",
       "</table>\n",
       "</div>"
      ],
      "text/plain": [
       "  Domain Code           Domain  Area Code (M49)     Area  Element Code  \\\n",
       "0          PP  Producer Prices              372  Ireland          5530   \n",
       "1          PP  Producer Prices              372  Ireland          5530   \n",
       "2          PP  Producer Prices              372  Ireland          5530   \n",
       "3          PP  Producer Prices              372  Ireland          5530   \n",
       "4          PP  Producer Prices              372  Ireland          5530   \n",
       "\n",
       "                      Element  Item Code (CPC)                Item  Year Code  \\\n",
       "0  Producer Price (LCU/tonne)             2211  Raw milk of cattle       1991   \n",
       "1  Producer Price (LCU/tonne)             2211  Raw milk of cattle       1992   \n",
       "2  Producer Price (LCU/tonne)             2211  Raw milk of cattle       1993   \n",
       "3  Producer Price (LCU/tonne)             2211  Raw milk of cattle       1994   \n",
       "4  Producer Price (LCU/tonne)             2211  Raw milk of cattle       1995   \n",
       "\n",
       "   Year  Months Code        Months Unit  Value Flag Flag Description  \n",
       "0  1991         7021  Annual value  LCU  184.0    A  Official figure  \n",
       "1  1992         7021  Annual value  LCU  199.0    A  Official figure  \n",
       "2  1993         7021  Annual value  LCU  214.0    A  Official figure  \n",
       "3  1994         7021  Annual value  LCU  213.0    A  Official figure  \n",
       "4  1995         7021  Annual value  LCU  226.0    A  Official figure  "
      ]
     },
     "execution_count": 41,
     "metadata": {},
     "output_type": "execute_result"
    }
   ],
   "source": [
    "fao.head()"
   ]
  },
  {
   "cell_type": "code",
   "execution_count": 42,
   "metadata": {
    "scrolled": true
   },
   "outputs": [
    {
     "data": {
      "text/html": [
       "<div>\n",
       "<style scoped>\n",
       "    .dataframe tbody tr th:only-of-type {\n",
       "        vertical-align: middle;\n",
       "    }\n",
       "\n",
       "    .dataframe tbody tr th {\n",
       "        vertical-align: top;\n",
       "    }\n",
       "\n",
       "    .dataframe thead th {\n",
       "        text-align: right;\n",
       "    }\n",
       "</style>\n",
       "<table border=\"1\" class=\"dataframe\">\n",
       "  <thead>\n",
       "    <tr style=\"text-align: right;\">\n",
       "      <th></th>\n",
       "      <th>Domain Code</th>\n",
       "      <th>Domain</th>\n",
       "      <th>Area Code (M49)</th>\n",
       "      <th>Area</th>\n",
       "      <th>Element Code</th>\n",
       "      <th>Element</th>\n",
       "      <th>Item Code (CPC)</th>\n",
       "      <th>Item</th>\n",
       "      <th>Year Code</th>\n",
       "      <th>Year</th>\n",
       "      <th>Months Code</th>\n",
       "      <th>Months</th>\n",
       "      <th>Unit</th>\n",
       "      <th>Value</th>\n",
       "      <th>Flag</th>\n",
       "      <th>Flag Description</th>\n",
       "    </tr>\n",
       "  </thead>\n",
       "  <tbody>\n",
       "    <tr>\n",
       "      <th>490</th>\n",
       "      <td>PP</td>\n",
       "      <td>Producer Prices</td>\n",
       "      <td>554</td>\n",
       "      <td>New Zealand</td>\n",
       "      <td>5539</td>\n",
       "      <td>Producer Price Index (2014-2016 = 100)</td>\n",
       "      <td>2211</td>\n",
       "      <td>Raw milk of cattle</td>\n",
       "      <td>2017</td>\n",
       "      <td>2017</td>\n",
       "      <td>7021</td>\n",
       "      <td>Annual value</td>\n",
       "      <td>NaN</td>\n",
       "      <td>110.64</td>\n",
       "      <td>I</td>\n",
       "      <td>Imputed value</td>\n",
       "    </tr>\n",
       "    <tr>\n",
       "      <th>491</th>\n",
       "      <td>PP</td>\n",
       "      <td>Producer Prices</td>\n",
       "      <td>554</td>\n",
       "      <td>New Zealand</td>\n",
       "      <td>5539</td>\n",
       "      <td>Producer Price Index (2014-2016 = 100)</td>\n",
       "      <td>2211</td>\n",
       "      <td>Raw milk of cattle</td>\n",
       "      <td>2018</td>\n",
       "      <td>2018</td>\n",
       "      <td>7021</td>\n",
       "      <td>Annual value</td>\n",
       "      <td>NaN</td>\n",
       "      <td>120.71</td>\n",
       "      <td>I</td>\n",
       "      <td>Imputed value</td>\n",
       "    </tr>\n",
       "    <tr>\n",
       "      <th>492</th>\n",
       "      <td>PP</td>\n",
       "      <td>Producer Prices</td>\n",
       "      <td>554</td>\n",
       "      <td>New Zealand</td>\n",
       "      <td>5539</td>\n",
       "      <td>Producer Price Index (2014-2016 = 100)</td>\n",
       "      <td>2211</td>\n",
       "      <td>Raw milk of cattle</td>\n",
       "      <td>2019</td>\n",
       "      <td>2019</td>\n",
       "      <td>7021</td>\n",
       "      <td>Annual value</td>\n",
       "      <td>NaN</td>\n",
       "      <td>114.42</td>\n",
       "      <td>I</td>\n",
       "      <td>Imputed value</td>\n",
       "    </tr>\n",
       "    <tr>\n",
       "      <th>493</th>\n",
       "      <td>PP</td>\n",
       "      <td>Producer Prices</td>\n",
       "      <td>554</td>\n",
       "      <td>New Zealand</td>\n",
       "      <td>5539</td>\n",
       "      <td>Producer Price Index (2014-2016 = 100)</td>\n",
       "      <td>2211</td>\n",
       "      <td>Raw milk of cattle</td>\n",
       "      <td>2020</td>\n",
       "      <td>2020</td>\n",
       "      <td>7021</td>\n",
       "      <td>Annual value</td>\n",
       "      <td>NaN</td>\n",
       "      <td>123.44</td>\n",
       "      <td>I</td>\n",
       "      <td>Imputed value</td>\n",
       "    </tr>\n",
       "    <tr>\n",
       "      <th>494</th>\n",
       "      <td>PP</td>\n",
       "      <td>Producer Prices</td>\n",
       "      <td>554</td>\n",
       "      <td>New Zealand</td>\n",
       "      <td>5539</td>\n",
       "      <td>Producer Price Index (2014-2016 = 100)</td>\n",
       "      <td>2211</td>\n",
       "      <td>Raw milk of cattle</td>\n",
       "      <td>2021</td>\n",
       "      <td>2021</td>\n",
       "      <td>7021</td>\n",
       "      <td>Annual value</td>\n",
       "      <td>NaN</td>\n",
       "      <td>132.47</td>\n",
       "      <td>I</td>\n",
       "      <td>Imputed value</td>\n",
       "    </tr>\n",
       "  </tbody>\n",
       "</table>\n",
       "</div>"
      ],
      "text/plain": [
       "    Domain Code           Domain  Area Code (M49)         Area  Element Code  \\\n",
       "490          PP  Producer Prices              554  New Zealand          5539   \n",
       "491          PP  Producer Prices              554  New Zealand          5539   \n",
       "492          PP  Producer Prices              554  New Zealand          5539   \n",
       "493          PP  Producer Prices              554  New Zealand          5539   \n",
       "494          PP  Producer Prices              554  New Zealand          5539   \n",
       "\n",
       "                                    Element  Item Code (CPC)  \\\n",
       "490  Producer Price Index (2014-2016 = 100)             2211   \n",
       "491  Producer Price Index (2014-2016 = 100)             2211   \n",
       "492  Producer Price Index (2014-2016 = 100)             2211   \n",
       "493  Producer Price Index (2014-2016 = 100)             2211   \n",
       "494  Producer Price Index (2014-2016 = 100)             2211   \n",
       "\n",
       "                   Item  Year Code  Year  Months Code        Months Unit  \\\n",
       "490  Raw milk of cattle       2017  2017         7021  Annual value  NaN   \n",
       "491  Raw milk of cattle       2018  2018         7021  Annual value  NaN   \n",
       "492  Raw milk of cattle       2019  2019         7021  Annual value  NaN   \n",
       "493  Raw milk of cattle       2020  2020         7021  Annual value  NaN   \n",
       "494  Raw milk of cattle       2021  2021         7021  Annual value  NaN   \n",
       "\n",
       "      Value Flag Flag Description  \n",
       "490  110.64    I    Imputed value  \n",
       "491  120.71    I    Imputed value  \n",
       "492  114.42    I    Imputed value  \n",
       "493  123.44    I    Imputed value  \n",
       "494  132.47    I    Imputed value  "
      ]
     },
     "execution_count": 42,
     "metadata": {},
     "output_type": "execute_result"
    }
   ],
   "source": [
    "fao.tail()"
   ]
  },
  {
   "cell_type": "code",
   "execution_count": 43,
   "metadata": {},
   "outputs": [
    {
     "data": {
      "text/plain": [
       "(495, 16)"
      ]
     },
     "execution_count": 43,
     "metadata": {},
     "output_type": "execute_result"
    }
   ],
   "source": [
    "fao.shape"
   ]
  },
  {
   "cell_type": "code",
   "execution_count": 44,
   "metadata": {},
   "outputs": [
    {
     "data": {
      "text/plain": [
       "Index(['Domain Code', 'Domain', 'Area Code (M49)', 'Area', 'Element Code',\n",
       "       'Element', 'Item Code (CPC)', 'Item', 'Year Code', 'Year',\n",
       "       'Months Code', 'Months', 'Unit', 'Value', 'Flag', 'Flag Description'],\n",
       "      dtype='object')"
      ]
     },
     "execution_count": 44,
     "metadata": {},
     "output_type": "execute_result"
    }
   ],
   "source": [
    "fao.columns"
   ]
  },
  {
   "cell_type": "code",
   "execution_count": 45,
   "metadata": {},
   "outputs": [
    {
     "data": {
      "text/plain": [
       "Domain Code          object\n",
       "Domain               object\n",
       "Area Code (M49)       int64\n",
       "Area                 object\n",
       "Element Code          int64\n",
       "Element              object\n",
       "Item Code (CPC)       int64\n",
       "Item                 object\n",
       "Year Code             int64\n",
       "Year                  int64\n",
       "Months Code           int64\n",
       "Months               object\n",
       "Unit                 object\n",
       "Value               float64\n",
       "Flag                 object\n",
       "Flag Description     object\n",
       "dtype: object"
      ]
     },
     "execution_count": 45,
     "metadata": {},
     "output_type": "execute_result"
    }
   ],
   "source": [
    "fao.dtypes"
   ]
  },
  {
   "cell_type": "code",
   "execution_count": 46,
   "metadata": {
    "scrolled": true
   },
   "outputs": [
    {
     "data": {
      "text/html": [
       "<div>\n",
       "<style scoped>\n",
       "    .dataframe tbody tr th:only-of-type {\n",
       "        vertical-align: middle;\n",
       "    }\n",
       "\n",
       "    .dataframe tbody tr th {\n",
       "        vertical-align: top;\n",
       "    }\n",
       "\n",
       "    .dataframe thead th {\n",
       "        text-align: right;\n",
       "    }\n",
       "</style>\n",
       "<table border=\"1\" class=\"dataframe\">\n",
       "  <thead>\n",
       "    <tr style=\"text-align: right;\">\n",
       "      <th></th>\n",
       "      <th>Area Code (M49)</th>\n",
       "      <th>Element Code</th>\n",
       "      <th>Item Code (CPC)</th>\n",
       "      <th>Year Code</th>\n",
       "      <th>Year</th>\n",
       "      <th>Months Code</th>\n",
       "      <th>Value</th>\n",
       "    </tr>\n",
       "  </thead>\n",
       "  <tbody>\n",
       "    <tr>\n",
       "      <th>count</th>\n",
       "      <td>495.000000</td>\n",
       "      <td>495.000000</td>\n",
       "      <td>495.0</td>\n",
       "      <td>495.000000</td>\n",
       "      <td>495.000000</td>\n",
       "      <td>495.000000</td>\n",
       "      <td>495.000000</td>\n",
       "    </tr>\n",
       "    <tr>\n",
       "      <th>mean</th>\n",
       "      <td>496.222222</td>\n",
       "      <td>5532.236364</td>\n",
       "      <td>2211.0</td>\n",
       "      <td>2008.127273</td>\n",
       "      <td>2008.127273</td>\n",
       "      <td>7017.133333</td>\n",
       "      <td>298.613818</td>\n",
       "    </tr>\n",
       "    <tr>\n",
       "      <th>std</th>\n",
       "      <td>71.516080</td>\n",
       "      <td>3.338933</td>\n",
       "      <td>0.0</td>\n",
       "      <td>8.713499</td>\n",
       "      <td>8.713499</td>\n",
       "      <td>6.662056</td>\n",
       "      <td>137.052937</td>\n",
       "    </tr>\n",
       "    <tr>\n",
       "      <th>min</th>\n",
       "      <td>372.000000</td>\n",
       "      <td>5530.000000</td>\n",
       "      <td>2211.0</td>\n",
       "      <td>1991.000000</td>\n",
       "      <td>1991.000000</td>\n",
       "      <td>7001.000000</td>\n",
       "      <td>41.150000</td>\n",
       "    </tr>\n",
       "    <tr>\n",
       "      <th>25%</th>\n",
       "      <td>528.000000</td>\n",
       "      <td>5530.000000</td>\n",
       "      <td>2211.0</td>\n",
       "      <td>2001.000000</td>\n",
       "      <td>2001.000000</td>\n",
       "      <td>7012.000000</td>\n",
       "      <td>232.800000</td>\n",
       "    </tr>\n",
       "    <tr>\n",
       "      <th>50%</th>\n",
       "      <td>528.000000</td>\n",
       "      <td>5531.000000</td>\n",
       "      <td>2211.0</td>\n",
       "      <td>2010.000000</td>\n",
       "      <td>2010.000000</td>\n",
       "      <td>7021.000000</td>\n",
       "      <td>314.000000</td>\n",
       "    </tr>\n",
       "    <tr>\n",
       "      <th>75%</th>\n",
       "      <td>528.000000</td>\n",
       "      <td>5532.000000</td>\n",
       "      <td>2211.0</td>\n",
       "      <td>2015.000000</td>\n",
       "      <td>2015.000000</td>\n",
       "      <td>7021.000000</td>\n",
       "      <td>355.000000</td>\n",
       "    </tr>\n",
       "    <tr>\n",
       "      <th>max</th>\n",
       "      <td>554.000000</td>\n",
       "      <td>5539.000000</td>\n",
       "      <td>2211.0</td>\n",
       "      <td>2021.000000</td>\n",
       "      <td>2021.000000</td>\n",
       "      <td>7021.000000</td>\n",
       "      <td>761.000000</td>\n",
       "    </tr>\n",
       "  </tbody>\n",
       "</table>\n",
       "</div>"
      ],
      "text/plain": [
       "       Area Code (M49)  Element Code  Item Code (CPC)    Year Code  \\\n",
       "count       495.000000    495.000000            495.0   495.000000   \n",
       "mean        496.222222   5532.236364           2211.0  2008.127273   \n",
       "std          71.516080      3.338933              0.0     8.713499   \n",
       "min         372.000000   5530.000000           2211.0  1991.000000   \n",
       "25%         528.000000   5530.000000           2211.0  2001.000000   \n",
       "50%         528.000000   5531.000000           2211.0  2010.000000   \n",
       "75%         528.000000   5532.000000           2211.0  2015.000000   \n",
       "max         554.000000   5539.000000           2211.0  2021.000000   \n",
       "\n",
       "              Year  Months Code       Value  \n",
       "count   495.000000   495.000000  495.000000  \n",
       "mean   2008.127273  7017.133333  298.613818  \n",
       "std       8.713499     6.662056  137.052937  \n",
       "min    1991.000000  7001.000000   41.150000  \n",
       "25%    2001.000000  7012.000000  232.800000  \n",
       "50%    2010.000000  7021.000000  314.000000  \n",
       "75%    2015.000000  7021.000000  355.000000  \n",
       "max    2021.000000  7021.000000  761.000000  "
      ]
     },
     "execution_count": 46,
     "metadata": {},
     "output_type": "execute_result"
    }
   ],
   "source": [
    "fao.describe()"
   ]
  },
  {
   "cell_type": "code",
   "execution_count": 47,
   "metadata": {},
   "outputs": [
    {
     "data": {
      "text/plain": [
       "array(['Producer Price (LCU/tonne)', 'Producer Price (SLC/tonne)',\n",
       "       'Producer Price (USD/tonne)',\n",
       "       'Producer Price Index (2014-2016 = 100)'], dtype=object)"
      ]
     },
     "execution_count": 47,
     "metadata": {},
     "output_type": "execute_result"
    }
   ],
   "source": [
    "fao['Element'].unique()"
   ]
  },
  {
   "cell_type": "markdown",
   "metadata": {},
   "source": [
    "Lets keep Producer price in USD/tonne and remove the other options from the dataframe"
   ]
  },
  {
   "cell_type": "code",
   "execution_count": 48,
   "metadata": {
    "scrolled": true
   },
   "outputs": [],
   "source": [
    "fao = fao[fao.Element == 'Producer Price (USD/tonne)']"
   ]
  },
  {
   "cell_type": "code",
   "execution_count": 49,
   "metadata": {},
   "outputs": [
    {
     "data": {
      "text/html": [
       "<div>\n",
       "<style scoped>\n",
       "    .dataframe tbody tr th:only-of-type {\n",
       "        vertical-align: middle;\n",
       "    }\n",
       "\n",
       "    .dataframe tbody tr th {\n",
       "        vertical-align: top;\n",
       "    }\n",
       "\n",
       "    .dataframe thead th {\n",
       "        text-align: right;\n",
       "    }\n",
       "</style>\n",
       "<table border=\"1\" class=\"dataframe\">\n",
       "  <thead>\n",
       "    <tr style=\"text-align: right;\">\n",
       "      <th></th>\n",
       "      <th>Domain Code</th>\n",
       "      <th>Domain</th>\n",
       "      <th>Area Code (M49)</th>\n",
       "      <th>Area</th>\n",
       "      <th>Element Code</th>\n",
       "      <th>Element</th>\n",
       "      <th>Item Code (CPC)</th>\n",
       "      <th>Item</th>\n",
       "      <th>Year Code</th>\n",
       "      <th>Year</th>\n",
       "      <th>Months Code</th>\n",
       "      <th>Months</th>\n",
       "      <th>Unit</th>\n",
       "      <th>Value</th>\n",
       "      <th>Flag</th>\n",
       "      <th>Flag Description</th>\n",
       "    </tr>\n",
       "  </thead>\n",
       "  <tbody>\n",
       "    <tr>\n",
       "      <th>60</th>\n",
       "      <td>PP</td>\n",
       "      <td>Producer Prices</td>\n",
       "      <td>372</td>\n",
       "      <td>Ireland</td>\n",
       "      <td>5532</td>\n",
       "      <td>Producer Price (USD/tonne)</td>\n",
       "      <td>2211</td>\n",
       "      <td>Raw milk of cattle</td>\n",
       "      <td>1991</td>\n",
       "      <td>1991</td>\n",
       "      <td>7021</td>\n",
       "      <td>Annual value</td>\n",
       "      <td>USD</td>\n",
       "      <td>296.1</td>\n",
       "      <td>A</td>\n",
       "      <td>Official figure</td>\n",
       "    </tr>\n",
       "    <tr>\n",
       "      <th>61</th>\n",
       "      <td>PP</td>\n",
       "      <td>Producer Prices</td>\n",
       "      <td>372</td>\n",
       "      <td>Ireland</td>\n",
       "      <td>5532</td>\n",
       "      <td>Producer Price (USD/tonne)</td>\n",
       "      <td>2211</td>\n",
       "      <td>Raw milk of cattle</td>\n",
       "      <td>1992</td>\n",
       "      <td>1992</td>\n",
       "      <td>7021</td>\n",
       "      <td>Annual value</td>\n",
       "      <td>USD</td>\n",
       "      <td>338.6</td>\n",
       "      <td>A</td>\n",
       "      <td>Official figure</td>\n",
       "    </tr>\n",
       "  </tbody>\n",
       "</table>\n",
       "</div>"
      ],
      "text/plain": [
       "   Domain Code           Domain  Area Code (M49)     Area  Element Code  \\\n",
       "60          PP  Producer Prices              372  Ireland          5532   \n",
       "61          PP  Producer Prices              372  Ireland          5532   \n",
       "\n",
       "                       Element  Item Code (CPC)                Item  \\\n",
       "60  Producer Price (USD/tonne)             2211  Raw milk of cattle   \n",
       "61  Producer Price (USD/tonne)             2211  Raw milk of cattle   \n",
       "\n",
       "    Year Code  Year  Months Code        Months Unit  Value Flag  \\\n",
       "60       1991  1991         7021  Annual value  USD  296.1    A   \n",
       "61       1992  1992         7021  Annual value  USD  338.6    A   \n",
       "\n",
       "   Flag Description  \n",
       "60  Official figure  \n",
       "61  Official figure  "
      ]
     },
     "execution_count": 49,
     "metadata": {},
     "output_type": "execute_result"
    }
   ],
   "source": [
    "fao.head(2)"
   ]
  },
  {
   "cell_type": "code",
   "execution_count": 50,
   "metadata": {
    "scrolled": true
   },
   "outputs": [
    {
     "data": {
      "text/html": [
       "<div>\n",
       "<style scoped>\n",
       "    .dataframe tbody tr th:only-of-type {\n",
       "        vertical-align: middle;\n",
       "    }\n",
       "\n",
       "    .dataframe tbody tr th {\n",
       "        vertical-align: top;\n",
       "    }\n",
       "\n",
       "    .dataframe thead th {\n",
       "        text-align: right;\n",
       "    }\n",
       "</style>\n",
       "<table border=\"1\" class=\"dataframe\">\n",
       "  <thead>\n",
       "    <tr style=\"text-align: right;\">\n",
       "      <th></th>\n",
       "      <th>Domain Code</th>\n",
       "      <th>Domain</th>\n",
       "      <th>Area Code (M49)</th>\n",
       "      <th>Area</th>\n",
       "      <th>Element Code</th>\n",
       "      <th>Element</th>\n",
       "      <th>Item Code (CPC)</th>\n",
       "      <th>Item</th>\n",
       "      <th>Year Code</th>\n",
       "      <th>Year</th>\n",
       "      <th>Months Code</th>\n",
       "      <th>Months</th>\n",
       "      <th>Unit</th>\n",
       "      <th>Value</th>\n",
       "      <th>Flag</th>\n",
       "      <th>Flag Description</th>\n",
       "    </tr>\n",
       "  </thead>\n",
       "  <tbody>\n",
       "    <tr>\n",
       "      <th>0</th>\n",
       "      <td>PP</td>\n",
       "      <td>Producer Prices</td>\n",
       "      <td>372</td>\n",
       "      <td>Ireland</td>\n",
       "      <td>5532</td>\n",
       "      <td>Producer Price (USD/tonne)</td>\n",
       "      <td>2211</td>\n",
       "      <td>Raw milk of cattle</td>\n",
       "      <td>1991</td>\n",
       "      <td>1991</td>\n",
       "      <td>7021</td>\n",
       "      <td>Annual value</td>\n",
       "      <td>USD</td>\n",
       "      <td>296.1</td>\n",
       "      <td>A</td>\n",
       "      <td>Official figure</td>\n",
       "    </tr>\n",
       "    <tr>\n",
       "      <th>1</th>\n",
       "      <td>PP</td>\n",
       "      <td>Producer Prices</td>\n",
       "      <td>372</td>\n",
       "      <td>Ireland</td>\n",
       "      <td>5532</td>\n",
       "      <td>Producer Price (USD/tonne)</td>\n",
       "      <td>2211</td>\n",
       "      <td>Raw milk of cattle</td>\n",
       "      <td>1992</td>\n",
       "      <td>1992</td>\n",
       "      <td>7021</td>\n",
       "      <td>Annual value</td>\n",
       "      <td>USD</td>\n",
       "      <td>338.6</td>\n",
       "      <td>A</td>\n",
       "      <td>Official figure</td>\n",
       "    </tr>\n",
       "    <tr>\n",
       "      <th>2</th>\n",
       "      <td>PP</td>\n",
       "      <td>Producer Prices</td>\n",
       "      <td>372</td>\n",
       "      <td>Ireland</td>\n",
       "      <td>5532</td>\n",
       "      <td>Producer Price (USD/tonne)</td>\n",
       "      <td>2211</td>\n",
       "      <td>Raw milk of cattle</td>\n",
       "      <td>1993</td>\n",
       "      <td>1993</td>\n",
       "      <td>7021</td>\n",
       "      <td>Annual value</td>\n",
       "      <td>USD</td>\n",
       "      <td>316.0</td>\n",
       "      <td>A</td>\n",
       "      <td>Official figure</td>\n",
       "    </tr>\n",
       "    <tr>\n",
       "      <th>3</th>\n",
       "      <td>PP</td>\n",
       "      <td>Producer Prices</td>\n",
       "      <td>372</td>\n",
       "      <td>Ireland</td>\n",
       "      <td>5532</td>\n",
       "      <td>Producer Price (USD/tonne)</td>\n",
       "      <td>2211</td>\n",
       "      <td>Raw milk of cattle</td>\n",
       "      <td>1994</td>\n",
       "      <td>1994</td>\n",
       "      <td>7021</td>\n",
       "      <td>Annual value</td>\n",
       "      <td>USD</td>\n",
       "      <td>318.6</td>\n",
       "      <td>A</td>\n",
       "      <td>Official figure</td>\n",
       "    </tr>\n",
       "    <tr>\n",
       "      <th>4</th>\n",
       "      <td>PP</td>\n",
       "      <td>Producer Prices</td>\n",
       "      <td>372</td>\n",
       "      <td>Ireland</td>\n",
       "      <td>5532</td>\n",
       "      <td>Producer Price (USD/tonne)</td>\n",
       "      <td>2211</td>\n",
       "      <td>Raw milk of cattle</td>\n",
       "      <td>1995</td>\n",
       "      <td>1995</td>\n",
       "      <td>7021</td>\n",
       "      <td>Annual value</td>\n",
       "      <td>USD</td>\n",
       "      <td>362.3</td>\n",
       "      <td>A</td>\n",
       "      <td>Official figure</td>\n",
       "    </tr>\n",
       "    <tr>\n",
       "      <th>...</th>\n",
       "      <td>...</td>\n",
       "      <td>...</td>\n",
       "      <td>...</td>\n",
       "      <td>...</td>\n",
       "      <td>...</td>\n",
       "      <td>...</td>\n",
       "      <td>...</td>\n",
       "      <td>...</td>\n",
       "      <td>...</td>\n",
       "      <td>...</td>\n",
       "      <td>...</td>\n",
       "      <td>...</td>\n",
       "      <td>...</td>\n",
       "      <td>...</td>\n",
       "      <td>...</td>\n",
       "      <td>...</td>\n",
       "    </tr>\n",
       "    <tr>\n",
       "      <th>85</th>\n",
       "      <td>PP</td>\n",
       "      <td>Producer Prices</td>\n",
       "      <td>554</td>\n",
       "      <td>New Zealand</td>\n",
       "      <td>5532</td>\n",
       "      <td>Producer Price (USD/tonne)</td>\n",
       "      <td>2211</td>\n",
       "      <td>Raw milk of cattle</td>\n",
       "      <td>2016</td>\n",
       "      <td>2016</td>\n",
       "      <td>7021</td>\n",
       "      <td>Annual value</td>\n",
       "      <td>USD</td>\n",
       "      <td>244.3</td>\n",
       "      <td>A</td>\n",
       "      <td>Official figure</td>\n",
       "    </tr>\n",
       "    <tr>\n",
       "      <th>86</th>\n",
       "      <td>PP</td>\n",
       "      <td>Producer Prices</td>\n",
       "      <td>554</td>\n",
       "      <td>New Zealand</td>\n",
       "      <td>5532</td>\n",
       "      <td>Producer Price (USD/tonne)</td>\n",
       "      <td>2211</td>\n",
       "      <td>Raw milk of cattle</td>\n",
       "      <td>2017</td>\n",
       "      <td>2017</td>\n",
       "      <td>7021</td>\n",
       "      <td>Annual value</td>\n",
       "      <td>USD</td>\n",
       "      <td>374.4</td>\n",
       "      <td>A</td>\n",
       "      <td>Official figure</td>\n",
       "    </tr>\n",
       "    <tr>\n",
       "      <th>87</th>\n",
       "      <td>PP</td>\n",
       "      <td>Producer Prices</td>\n",
       "      <td>554</td>\n",
       "      <td>New Zealand</td>\n",
       "      <td>5532</td>\n",
       "      <td>Producer Price (USD/tonne)</td>\n",
       "      <td>2211</td>\n",
       "      <td>Raw milk of cattle</td>\n",
       "      <td>2018</td>\n",
       "      <td>2018</td>\n",
       "      <td>7021</td>\n",
       "      <td>Annual value</td>\n",
       "      <td>USD</td>\n",
       "      <td>397.9</td>\n",
       "      <td>A</td>\n",
       "      <td>Official figure</td>\n",
       "    </tr>\n",
       "    <tr>\n",
       "      <th>88</th>\n",
       "      <td>PP</td>\n",
       "      <td>Producer Prices</td>\n",
       "      <td>554</td>\n",
       "      <td>New Zealand</td>\n",
       "      <td>5532</td>\n",
       "      <td>Producer Price (USD/tonne)</td>\n",
       "      <td>2211</td>\n",
       "      <td>Raw milk of cattle</td>\n",
       "      <td>2019</td>\n",
       "      <td>2019</td>\n",
       "      <td>7021</td>\n",
       "      <td>Annual value</td>\n",
       "      <td>USD</td>\n",
       "      <td>359.1</td>\n",
       "      <td>A</td>\n",
       "      <td>Official figure</td>\n",
       "    </tr>\n",
       "    <tr>\n",
       "      <th>89</th>\n",
       "      <td>PP</td>\n",
       "      <td>Producer Prices</td>\n",
       "      <td>554</td>\n",
       "      <td>New Zealand</td>\n",
       "      <td>5532</td>\n",
       "      <td>Producer Price (USD/tonne)</td>\n",
       "      <td>2211</td>\n",
       "      <td>Raw milk of cattle</td>\n",
       "      <td>2020</td>\n",
       "      <td>2020</td>\n",
       "      <td>7021</td>\n",
       "      <td>Annual value</td>\n",
       "      <td>USD</td>\n",
       "      <td>381.3</td>\n",
       "      <td>A</td>\n",
       "      <td>Official figure</td>\n",
       "    </tr>\n",
       "  </tbody>\n",
       "</table>\n",
       "<p>90 rows × 16 columns</p>\n",
       "</div>"
      ],
      "text/plain": [
       "   Domain Code           Domain  Area Code (M49)         Area  Element Code  \\\n",
       "0           PP  Producer Prices              372      Ireland          5532   \n",
       "1           PP  Producer Prices              372      Ireland          5532   \n",
       "2           PP  Producer Prices              372      Ireland          5532   \n",
       "3           PP  Producer Prices              372      Ireland          5532   \n",
       "4           PP  Producer Prices              372      Ireland          5532   \n",
       "..         ...              ...              ...          ...           ...   \n",
       "85          PP  Producer Prices              554  New Zealand          5532   \n",
       "86          PP  Producer Prices              554  New Zealand          5532   \n",
       "87          PP  Producer Prices              554  New Zealand          5532   \n",
       "88          PP  Producer Prices              554  New Zealand          5532   \n",
       "89          PP  Producer Prices              554  New Zealand          5532   \n",
       "\n",
       "                       Element  Item Code (CPC)                Item  \\\n",
       "0   Producer Price (USD/tonne)             2211  Raw milk of cattle   \n",
       "1   Producer Price (USD/tonne)             2211  Raw milk of cattle   \n",
       "2   Producer Price (USD/tonne)             2211  Raw milk of cattle   \n",
       "3   Producer Price (USD/tonne)             2211  Raw milk of cattle   \n",
       "4   Producer Price (USD/tonne)             2211  Raw milk of cattle   \n",
       "..                         ...              ...                 ...   \n",
       "85  Producer Price (USD/tonne)             2211  Raw milk of cattle   \n",
       "86  Producer Price (USD/tonne)             2211  Raw milk of cattle   \n",
       "87  Producer Price (USD/tonne)             2211  Raw milk of cattle   \n",
       "88  Producer Price (USD/tonne)             2211  Raw milk of cattle   \n",
       "89  Producer Price (USD/tonne)             2211  Raw milk of cattle   \n",
       "\n",
       "    Year Code  Year  Months Code        Months Unit  Value Flag  \\\n",
       "0        1991  1991         7021  Annual value  USD  296.1    A   \n",
       "1        1992  1992         7021  Annual value  USD  338.6    A   \n",
       "2        1993  1993         7021  Annual value  USD  316.0    A   \n",
       "3        1994  1994         7021  Annual value  USD  318.6    A   \n",
       "4        1995  1995         7021  Annual value  USD  362.3    A   \n",
       "..        ...   ...          ...           ...  ...    ...  ...   \n",
       "85       2016  2016         7021  Annual value  USD  244.3    A   \n",
       "86       2017  2017         7021  Annual value  USD  374.4    A   \n",
       "87       2018  2018         7021  Annual value  USD  397.9    A   \n",
       "88       2019  2019         7021  Annual value  USD  359.1    A   \n",
       "89       2020  2020         7021  Annual value  USD  381.3    A   \n",
       "\n",
       "   Flag Description  \n",
       "0   Official figure  \n",
       "1   Official figure  \n",
       "2   Official figure  \n",
       "3   Official figure  \n",
       "4   Official figure  \n",
       "..              ...  \n",
       "85  Official figure  \n",
       "86  Official figure  \n",
       "87  Official figure  \n",
       "88  Official figure  \n",
       "89  Official figure  \n",
       "\n",
       "[90 rows x 16 columns]"
      ]
     },
     "execution_count": 50,
     "metadata": {},
     "output_type": "execute_result"
    }
   ],
   "source": [
    "fao.reset_index(drop=True)"
   ]
  },
  {
   "cell_type": "code",
   "execution_count": 51,
   "metadata": {},
   "outputs": [
    {
     "data": {
      "text/plain": [
       "(90, 16)"
      ]
     },
     "execution_count": 51,
     "metadata": {},
     "output_type": "execute_result"
    }
   ],
   "source": [
    "fao.shape"
   ]
  },
  {
   "cell_type": "code",
   "execution_count": 52,
   "metadata": {},
   "outputs": [
    {
     "name": "stdout",
     "output_type": "stream",
     "text": [
      "<class 'pandas.core.frame.DataFrame'>\n",
      "Int64Index: 90 entries, 60 to 463\n",
      "Data columns (total 4 columns):\n",
      " #   Column  Non-Null Count  Dtype  \n",
      "---  ------  --------------  -----  \n",
      " 0   Area    90 non-null     object \n",
      " 1   Item    90 non-null     object \n",
      " 2   Year    90 non-null     int64  \n",
      " 3   Value   90 non-null     float64\n",
      "dtypes: float64(1), int64(1), object(2)\n",
      "memory usage: 3.5+ KB\n"
     ]
    }
   ],
   "source": [
    "fao.drop(['Domain Code', 'Domain', 'Area Code (M49)', 'Element Code', 'Element', 'Item Code (CPC)', 'Year Code', 'Months Code', 'Months', 'Unit', 'Flag', 'Flag Description'], axis =1, inplace=True)\n",
    "fao.info()"
   ]
  },
  {
   "cell_type": "markdown",
   "metadata": {},
   "source": [
    "# Manufacture Milk Price Ireland"
   ]
  },
  {
   "cell_type": "markdown",
   "metadata": {},
   "source": [
    "Loading/reading CSV file with Manufacturing Milk Prices in Ireland in Euro Jan 1976 - Dec 2010 (source = gov.ie). <br> This dataset also includes egg manufacturing prices, which we will remove from the dataframe before EDA as we are interested in milk price only."
   ]
  },
  {
   "cell_type": "code",
   "execution_count": 53,
   "metadata": {
    "scrolled": true
   },
   "outputs": [],
   "source": [
    "df1 = pd.read_csv('AJM06.20230103213315.csv')"
   ]
  },
  {
   "cell_type": "code",
   "execution_count": 54,
   "metadata": {},
   "outputs": [
    {
     "data": {
      "text/plain": [
       "(1260, 8)"
      ]
     },
     "execution_count": 54,
     "metadata": {},
     "output_type": "execute_result"
    }
   ],
   "source": [
    "df1.shape"
   ]
  },
  {
   "cell_type": "markdown",
   "metadata": {},
   "source": [
    "This dataset has 1260 rows and 8 columns as shoen using the .shape function. Next we will use the .head and .tail function to take a look at the data in more detail."
   ]
  },
  {
   "cell_type": "code",
   "execution_count": 55,
   "metadata": {
    "scrolled": false
   },
   "outputs": [
    {
     "data": {
      "text/html": [
       "<div>\n",
       "<style scoped>\n",
       "    .dataframe tbody tr th:only-of-type {\n",
       "        vertical-align: middle;\n",
       "    }\n",
       "\n",
       "    .dataframe tbody tr th {\n",
       "        vertical-align: top;\n",
       "    }\n",
       "\n",
       "    .dataframe thead th {\n",
       "        text-align: right;\n",
       "    }\n",
       "</style>\n",
       "<table border=\"1\" class=\"dataframe\">\n",
       "  <thead>\n",
       "    <tr style=\"text-align: right;\">\n",
       "      <th></th>\n",
       "      <th>STATISTIC</th>\n",
       "      <th>Statistic Label</th>\n",
       "      <th>C02136V02577</th>\n",
       "      <th>Product</th>\n",
       "      <th>TLIST(M1)</th>\n",
       "      <th>Date</th>\n",
       "      <th>UNIT</th>\n",
       "      <th>VALUE</th>\n",
       "    </tr>\n",
       "  </thead>\n",
       "  <tbody>\n",
       "    <tr>\n",
       "      <th>0</th>\n",
       "      <td>AJM06</td>\n",
       "      <td>Manufacturing Milk and Hen Egg Prices (includi...</td>\n",
       "      <td>1</td>\n",
       "      <td>Milk (per litre), actual fat and protein</td>\n",
       "      <td>197601</td>\n",
       "      <td>01/01/1976</td>\n",
       "      <td>Euro</td>\n",
       "      <td>0.099</td>\n",
       "    </tr>\n",
       "    <tr>\n",
       "      <th>1</th>\n",
       "      <td>AJM06</td>\n",
       "      <td>Manufacturing Milk and Hen Egg Prices (includi...</td>\n",
       "      <td>1</td>\n",
       "      <td>Milk (per litre), actual fat and protein</td>\n",
       "      <td>197602</td>\n",
       "      <td>01/02/1976</td>\n",
       "      <td>Euro</td>\n",
       "      <td>0.097</td>\n",
       "    </tr>\n",
       "  </tbody>\n",
       "</table>\n",
       "</div>"
      ],
      "text/plain": [
       "  STATISTIC                                    Statistic Label  C02136V02577  \\\n",
       "0     AJM06  Manufacturing Milk and Hen Egg Prices (includi...             1   \n",
       "1     AJM06  Manufacturing Milk and Hen Egg Prices (includi...             1   \n",
       "\n",
       "                                    Product  TLIST(M1)        Date  UNIT  \\\n",
       "0  Milk (per litre), actual fat and protein     197601  01/01/1976  Euro   \n",
       "1  Milk (per litre), actual fat and protein     197602  01/02/1976  Euro   \n",
       "\n",
       "   VALUE  \n",
       "0  0.099  \n",
       "1  0.097  "
      ]
     },
     "execution_count": 55,
     "metadata": {},
     "output_type": "execute_result"
    }
   ],
   "source": [
    "df1.head(2)"
   ]
  },
  {
   "cell_type": "code",
   "execution_count": 56,
   "metadata": {
    "scrolled": false
   },
   "outputs": [
    {
     "data": {
      "text/html": [
       "<div>\n",
       "<style scoped>\n",
       "    .dataframe tbody tr th:only-of-type {\n",
       "        vertical-align: middle;\n",
       "    }\n",
       "\n",
       "    .dataframe tbody tr th {\n",
       "        vertical-align: top;\n",
       "    }\n",
       "\n",
       "    .dataframe thead th {\n",
       "        text-align: right;\n",
       "    }\n",
       "</style>\n",
       "<table border=\"1\" class=\"dataframe\">\n",
       "  <thead>\n",
       "    <tr style=\"text-align: right;\">\n",
       "      <th></th>\n",
       "      <th>STATISTIC</th>\n",
       "      <th>Statistic Label</th>\n",
       "      <th>C02136V02577</th>\n",
       "      <th>Product</th>\n",
       "      <th>TLIST(M1)</th>\n",
       "      <th>Date</th>\n",
       "      <th>UNIT</th>\n",
       "      <th>VALUE</th>\n",
       "    </tr>\n",
       "  </thead>\n",
       "  <tbody>\n",
       "    <tr>\n",
       "      <th>1259</th>\n",
       "      <td>AJM06</td>\n",
       "      <td>Manufacturing Milk and Hen Egg Prices (includi...</td>\n",
       "      <td>3</td>\n",
       "      <td>Hens eggs (10 dozen)</td>\n",
       "      <td>201012</td>\n",
       "      <td>01/12/2010</td>\n",
       "      <td>Euro</td>\n",
       "      <td>7.25</td>\n",
       "    </tr>\n",
       "  </tbody>\n",
       "</table>\n",
       "</div>"
      ],
      "text/plain": [
       "     STATISTIC                                    Statistic Label  \\\n",
       "1259     AJM06  Manufacturing Milk and Hen Egg Prices (includi...   \n",
       "\n",
       "      C02136V02577               Product  TLIST(M1)        Date  UNIT  VALUE  \n",
       "1259             3  Hens eggs (10 dozen)     201012  01/12/2010  Euro   7.25  "
      ]
     },
     "execution_count": 56,
     "metadata": {},
     "output_type": "execute_result"
    }
   ],
   "source": [
    "df1.tail(1)"
   ]
  },
  {
   "cell_type": "code",
   "execution_count": 57,
   "metadata": {
    "scrolled": false
   },
   "outputs": [
    {
     "data": {
      "text/html": [
       "<div>\n",
       "<style scoped>\n",
       "    .dataframe tbody tr th:only-of-type {\n",
       "        vertical-align: middle;\n",
       "    }\n",
       "\n",
       "    .dataframe tbody tr th {\n",
       "        vertical-align: top;\n",
       "    }\n",
       "\n",
       "    .dataframe thead th {\n",
       "        text-align: right;\n",
       "    }\n",
       "</style>\n",
       "<table border=\"1\" class=\"dataframe\">\n",
       "  <thead>\n",
       "    <tr style=\"text-align: right;\">\n",
       "      <th></th>\n",
       "      <th>STATISTIC</th>\n",
       "      <th>Statistic Label</th>\n",
       "      <th>C02136V02577</th>\n",
       "      <th>Product</th>\n",
       "      <th>TLIST(M1)</th>\n",
       "      <th>Date</th>\n",
       "      <th>UNIT</th>\n",
       "      <th>VALUE</th>\n",
       "    </tr>\n",
       "  </thead>\n",
       "  <tbody>\n",
       "    <tr>\n",
       "      <th>230</th>\n",
       "      <td>AJM06</td>\n",
       "      <td>Manufacturing Milk and Hen Egg Prices (includi...</td>\n",
       "      <td>1</td>\n",
       "      <td>Milk (per litre), actual fat and protein</td>\n",
       "      <td>199503</td>\n",
       "      <td>01/03/1995</td>\n",
       "      <td>Euro</td>\n",
       "      <td>0.269</td>\n",
       "    </tr>\n",
       "    <tr>\n",
       "      <th>987</th>\n",
       "      <td>AJM06</td>\n",
       "      <td>Manufacturing Milk and Hen Egg Prices (includi...</td>\n",
       "      <td>3</td>\n",
       "      <td>Hens eggs (10 dozen)</td>\n",
       "      <td>198804</td>\n",
       "      <td>01/04/1988</td>\n",
       "      <td>Euro</td>\n",
       "      <td>5.680</td>\n",
       "    </tr>\n",
       "  </tbody>\n",
       "</table>\n",
       "</div>"
      ],
      "text/plain": [
       "    STATISTIC                                    Statistic Label  \\\n",
       "230     AJM06  Manufacturing Milk and Hen Egg Prices (includi...   \n",
       "987     AJM06  Manufacturing Milk and Hen Egg Prices (includi...   \n",
       "\n",
       "     C02136V02577                                   Product  TLIST(M1)  \\\n",
       "230             1  Milk (per litre), actual fat and protein     199503   \n",
       "987             3                      Hens eggs (10 dozen)     198804   \n",
       "\n",
       "           Date  UNIT  VALUE  \n",
       "230  01/03/1995  Euro  0.269  \n",
       "987  01/04/1988  Euro  5.680  "
      ]
     },
     "execution_count": 57,
     "metadata": {},
     "output_type": "execute_result"
    }
   ],
   "source": [
    "df1.sample(2)"
   ]
  },
  {
   "cell_type": "markdown",
   "metadata": {},
   "source": [
    "Above, we  have the first and last 5 rows, as per default of .head and .tail. We also have called a random sample of 10 rows. There is no missing data in the examples abpve, however we will need to confirm this later. We can remove the statistic column. We will also edit the statistic label, removing the reference to egg prices as we are not analysing this data. We can remove the rows with egg prices also. We will also need to transfor the date uisng date time function. There are two types of products we will keep, milk actual fat and standardised, which is milk that has been treated with lactose or retentate to achieve a fixed content for further processing, e.g for skimmed milk powder. it may also include centrifugation to remove fat."
   ]
  },
  {
   "cell_type": "code",
   "execution_count": 58,
   "metadata": {},
   "outputs": [],
   "source": [
    " df1 = df1.rename(columns={\"VALUE\":\"Value_euro\"})"
   ]
  },
  {
   "cell_type": "code",
   "execution_count": 59,
   "metadata": {
    "scrolled": true
   },
   "outputs": [
    {
     "name": "stdout",
     "output_type": "stream",
     "text": [
      "STATISTIC\n",
      "Statistic Label\n",
      "C02136V02577\n",
      "Product\n",
      "TLIST(M1)\n",
      "Date\n",
      "UNIT\n",
      "Value_euro\n"
     ]
    }
   ],
   "source": [
    "for col in df1.columns:\n",
    "    print(col)"
   ]
  },
  {
   "cell_type": "markdown",
   "metadata": {},
   "source": [
    "We will extend the column width to take a full look at the data in Statistic Label column."
   ]
  },
  {
   "cell_type": "code",
   "execution_count": 60,
   "metadata": {
    "scrolled": false
   },
   "outputs": [
    {
     "name": "stdout",
     "output_type": "stream",
     "text": [
      "0       Manufacturing Milk and Hen Egg Prices (including VAT)\n",
      "1       Manufacturing Milk and Hen Egg Prices (including VAT)\n",
      "2       Manufacturing Milk and Hen Egg Prices (including VAT)\n",
      "3       Manufacturing Milk and Hen Egg Prices (including VAT)\n",
      "4       Manufacturing Milk and Hen Egg Prices (including VAT)\n",
      "                                ...                          \n",
      "1255    Manufacturing Milk and Hen Egg Prices (including VAT)\n",
      "1256    Manufacturing Milk and Hen Egg Prices (including VAT)\n",
      "1257    Manufacturing Milk and Hen Egg Prices (including VAT)\n",
      "1258    Manufacturing Milk and Hen Egg Prices (including VAT)\n",
      "1259    Manufacturing Milk and Hen Egg Prices (including VAT)\n",
      "Name: Statistic Label, Length: 1260, dtype: object\n"
     ]
    }
   ],
   "source": [
    "pd.options.display.max_colwidth = 100\n",
    "print(df1['Statistic Label'])"
   ]
  },
  {
   "cell_type": "code",
   "execution_count": 61,
   "metadata": {},
   "outputs": [
    {
     "data": {
      "text/plain": [
       "array(['Manufacturing Milk and Hen Egg Prices (including VAT)'],\n",
       "      dtype=object)"
      ]
     },
     "execution_count": 61,
     "metadata": {},
     "output_type": "execute_result"
    }
   ],
   "source": [
    "df1['Statistic Label'].unique()"
   ]
  },
  {
   "cell_type": "markdown",
   "metadata": {},
   "source": [
    "Next we will replace the data in "
   ]
  },
  {
   "cell_type": "code",
   "execution_count": 62,
   "metadata": {
    "scrolled": true
   },
   "outputs": [
    {
     "name": "stdout",
     "output_type": "stream",
     "text": [
      "0       Manufacturing Milk Price\n",
      "1       Manufacturing Milk Price\n",
      "2       Manufacturing Milk Price\n",
      "3       Manufacturing Milk Price\n",
      "4       Manufacturing Milk Price\n",
      "                  ...           \n",
      "1255    Manufacturing Milk Price\n",
      "1256    Manufacturing Milk Price\n",
      "1257    Manufacturing Milk Price\n",
      "1258    Manufacturing Milk Price\n",
      "1259    Manufacturing Milk Price\n",
      "Name: Statistic Label, Length: 1260, dtype: object\n"
     ]
    }
   ],
   "source": [
    "df1=df1.replace('Manufacturing Milk and Hen Egg Prices (including VAT)', 'Manufacturing Milk Price')\n",
    "print(df1['Statistic Label'])"
   ]
  },
  {
   "cell_type": "code",
   "execution_count": 63,
   "metadata": {},
   "outputs": [],
   "source": [
    "df1 = df1[df1.C02136V02577 != 3]"
   ]
  },
  {
   "cell_type": "code",
   "execution_count": 64,
   "metadata": {},
   "outputs": [
    {
     "data": {
      "text/plain": [
       "(840, 8)"
      ]
     },
     "execution_count": 64,
     "metadata": {},
     "output_type": "execute_result"
    }
   ],
   "source": [
    "df1.shape"
   ]
  },
  {
   "cell_type": "code",
   "execution_count": 65,
   "metadata": {
    "scrolled": true
   },
   "outputs": [
    {
     "name": "stdout",
     "output_type": "stream",
     "text": [
      "<class 'pandas.core.frame.DataFrame'>\n",
      "Int64Index: 840 entries, 0 to 839\n",
      "Data columns (total 8 columns):\n",
      " #   Column           Non-Null Count  Dtype  \n",
      "---  ------           --------------  -----  \n",
      " 0   STATISTIC        840 non-null    object \n",
      " 1   Statistic Label  840 non-null    object \n",
      " 2   C02136V02577     840 non-null    int64  \n",
      " 3   Product          840 non-null    object \n",
      " 4   TLIST(M1)        840 non-null    int64  \n",
      " 5   Date             840 non-null    object \n",
      " 6   UNIT             840 non-null    object \n",
      " 7   Value_euro       840 non-null    float64\n",
      "dtypes: float64(1), int64(2), object(5)\n",
      "memory usage: 59.1+ KB\n"
     ]
    }
   ],
   "source": [
    "df1.info()"
   ]
  },
  {
   "cell_type": "code",
   "execution_count": 66,
   "metadata": {},
   "outputs": [
    {
     "name": "stdout",
     "output_type": "stream",
     "text": [
      "<class 'pandas.core.frame.DataFrame'>\n",
      "Int64Index: 840 entries, 0 to 839\n",
      "Data columns (total 8 columns):\n",
      " #   Column           Non-Null Count  Dtype         \n",
      "---  ------           --------------  -----         \n",
      " 0   STATISTIC        840 non-null    object        \n",
      " 1   Statistic Label  840 non-null    object        \n",
      " 2   C02136V02577     840 non-null    int64         \n",
      " 3   Product          840 non-null    object        \n",
      " 4   TLIST(M1)        840 non-null    int64         \n",
      " 5   Date             840 non-null    datetime64[ns]\n",
      " 6   UNIT             840 non-null    object        \n",
      " 7   Value_euro       840 non-null    float64       \n",
      "dtypes: datetime64[ns](1), float64(1), int64(2), object(4)\n",
      "memory usage: 59.1+ KB\n"
     ]
    }
   ],
   "source": [
    "df1['Date'] = pd.to_datetime(df1['Date'], format=\"%d/%m/%Y\")\n",
    "df1.info()"
   ]
  },
  {
   "cell_type": "code",
   "execution_count": 67,
   "metadata": {},
   "outputs": [
    {
     "name": "stdout",
     "output_type": "stream",
     "text": [
      "<class 'pandas.core.frame.DataFrame'>\n",
      "Int64Index: 840 entries, 0 to 839\n",
      "Data columns (total 3 columns):\n",
      " #   Column      Non-Null Count  Dtype         \n",
      "---  ------      --------------  -----         \n",
      " 0   Product     840 non-null    object        \n",
      " 1   Date        840 non-null    datetime64[ns]\n",
      " 2   Value_euro  840 non-null    float64       \n",
      "dtypes: datetime64[ns](1), float64(1), object(1)\n",
      "memory usage: 26.2+ KB\n"
     ]
    }
   ],
   "source": [
    "df1.drop(['STATISTIC', 'C02136V02577', 'UNIT', 'TLIST(M1)', 'Statistic Label'], axis =1, inplace=True)\n",
    "df1.info()"
   ]
  },
  {
   "cell_type": "markdown",
   "metadata": {},
   "source": [
    "# Production of Dairy Products Ireland"
   ]
  },
  {
   "cell_type": "code",
   "execution_count": 68,
   "metadata": {},
   "outputs": [],
   "source": [
    "df2 = pd.read_csv('AKM03.20230103212047.csv')"
   ]
  },
  {
   "cell_type": "code",
   "execution_count": 69,
   "metadata": {
    "scrolled": false
   },
   "outputs": [
    {
     "data": {
      "text/html": [
       "<div>\n",
       "<style scoped>\n",
       "    .dataframe tbody tr th:only-of-type {\n",
       "        vertical-align: middle;\n",
       "    }\n",
       "\n",
       "    .dataframe tbody tr th {\n",
       "        vertical-align: top;\n",
       "    }\n",
       "\n",
       "    .dataframe thead th {\n",
       "        text-align: right;\n",
       "    }\n",
       "</style>\n",
       "<table border=\"1\" class=\"dataframe\">\n",
       "  <thead>\n",
       "    <tr style=\"text-align: right;\">\n",
       "      <th></th>\n",
       "      <th>STATISTIC</th>\n",
       "      <th>STATISTIC Label</th>\n",
       "      <th>TLIST(M1)</th>\n",
       "      <th>Month</th>\n",
       "      <th>C02064V02491</th>\n",
       "      <th>Product</th>\n",
       "      <th>UNIT</th>\n",
       "      <th>VALUE</th>\n",
       "    </tr>\n",
       "  </thead>\n",
       "  <tbody>\n",
       "    <tr>\n",
       "      <th>0</th>\n",
       "      <td>AKM03</td>\n",
       "      <td>Production of Dairy Products</td>\n",
       "      <td>198001</td>\n",
       "      <td>1980 January</td>\n",
       "      <td>3</td>\n",
       "      <td>Cheese</td>\n",
       "      <td>000 Tonnes</td>\n",
       "      <td>0</td>\n",
       "    </tr>\n",
       "    <tr>\n",
       "      <th>1</th>\n",
       "      <td>AKM03</td>\n",
       "      <td>Production of Dairy Products</td>\n",
       "      <td>198001</td>\n",
       "      <td>1980 January</td>\n",
       "      <td>4</td>\n",
       "      <td>Butter</td>\n",
       "      <td>000 Tonnes</td>\n",
       "      <td>1.8</td>\n",
       "    </tr>\n",
       "    <tr>\n",
       "      <th>2</th>\n",
       "      <td>AKM03</td>\n",
       "      <td>Production of Dairy Products</td>\n",
       "      <td>198001</td>\n",
       "      <td>1980 January</td>\n",
       "      <td>21</td>\n",
       "      <td>Skimmed Milk Powder</td>\n",
       "      <td>000 Tonnes</td>\n",
       "      <td>1.6</td>\n",
       "    </tr>\n",
       "    <tr>\n",
       "      <th>3</th>\n",
       "      <td>AKM03</td>\n",
       "      <td>Production of Dairy Products</td>\n",
       "      <td>198002</td>\n",
       "      <td>1980 February</td>\n",
       "      <td>3</td>\n",
       "      <td>Cheese</td>\n",
       "      <td>000 Tonnes</td>\n",
       "      <td>0.2</td>\n",
       "    </tr>\n",
       "    <tr>\n",
       "      <th>4</th>\n",
       "      <td>AKM03</td>\n",
       "      <td>Production of Dairy Products</td>\n",
       "      <td>198002</td>\n",
       "      <td>1980 February</td>\n",
       "      <td>4</td>\n",
       "      <td>Butter</td>\n",
       "      <td>000 Tonnes</td>\n",
       "      <td>4.4</td>\n",
       "    </tr>\n",
       "  </tbody>\n",
       "</table>\n",
       "</div>"
      ],
      "text/plain": [
       "  STATISTIC               STATISTIC Label  TLIST(M1)          Month  \\\n",
       "0     AKM03  Production of Dairy Products     198001   1980 January   \n",
       "1     AKM03  Production of Dairy Products     198001   1980 January   \n",
       "2     AKM03  Production of Dairy Products     198001   1980 January   \n",
       "3     AKM03  Production of Dairy Products     198002  1980 February   \n",
       "4     AKM03  Production of Dairy Products     198002  1980 February   \n",
       "\n",
       "   C02064V02491              Product        UNIT VALUE  \n",
       "0             3               Cheese  000 Tonnes     0  \n",
       "1             4               Butter  000 Tonnes   1.8  \n",
       "2            21  Skimmed Milk Powder  000 Tonnes   1.6  \n",
       "3             3               Cheese  000 Tonnes   0.2  \n",
       "4             4               Butter  000 Tonnes   4.4  "
      ]
     },
     "execution_count": 69,
     "metadata": {},
     "output_type": "execute_result"
    }
   ],
   "source": [
    "df2.head()"
   ]
  },
  {
   "cell_type": "code",
   "execution_count": 70,
   "metadata": {},
   "outputs": [
    {
     "data": {
      "text/plain": [
       "(1542, 8)"
      ]
     },
     "execution_count": 70,
     "metadata": {},
     "output_type": "execute_result"
    }
   ],
   "source": [
    "df2.shape"
   ]
  },
  {
   "cell_type": "code",
   "execution_count": 71,
   "metadata": {},
   "outputs": [
    {
     "data": {
      "text/html": [
       "<div>\n",
       "<style scoped>\n",
       "    .dataframe tbody tr th:only-of-type {\n",
       "        vertical-align: middle;\n",
       "    }\n",
       "\n",
       "    .dataframe tbody tr th {\n",
       "        vertical-align: top;\n",
       "    }\n",
       "\n",
       "    .dataframe thead th {\n",
       "        text-align: right;\n",
       "    }\n",
       "</style>\n",
       "<table border=\"1\" class=\"dataframe\">\n",
       "  <thead>\n",
       "    <tr style=\"text-align: right;\">\n",
       "      <th></th>\n",
       "      <th>STATISTIC</th>\n",
       "      <th>STATISTIC Label</th>\n",
       "      <th>TLIST(M1)</th>\n",
       "      <th>Month</th>\n",
       "      <th>C02064V02491</th>\n",
       "      <th>Product</th>\n",
       "      <th>UNIT</th>\n",
       "      <th>VALUE</th>\n",
       "    </tr>\n",
       "  </thead>\n",
       "  <tbody>\n",
       "    <tr>\n",
       "      <th>1537</th>\n",
       "      <td>AKM03</td>\n",
       "      <td>Production of Dairy Products</td>\n",
       "      <td>202209</td>\n",
       "      <td>2022 September</td>\n",
       "      <td>4</td>\n",
       "      <td>Butter</td>\n",
       "      <td>000 Tonnes</td>\n",
       "      <td>23.68</td>\n",
       "    </tr>\n",
       "    <tr>\n",
       "      <th>1538</th>\n",
       "      <td>AKM03</td>\n",
       "      <td>Production of Dairy Products</td>\n",
       "      <td>202209</td>\n",
       "      <td>2022 September</td>\n",
       "      <td>21</td>\n",
       "      <td>Skimmed Milk Powder</td>\n",
       "      <td>000 Tonnes</td>\n",
       "      <td>13.15</td>\n",
       "    </tr>\n",
       "    <tr>\n",
       "      <th>1539</th>\n",
       "      <td>AKM03</td>\n",
       "      <td>Production of Dairy Products</td>\n",
       "      <td>202210</td>\n",
       "      <td>2022 October</td>\n",
       "      <td>3</td>\n",
       "      <td>Cheese</td>\n",
       "      <td>000 Tonnes</td>\n",
       "      <td>NaN</td>\n",
       "    </tr>\n",
       "    <tr>\n",
       "      <th>1540</th>\n",
       "      <td>AKM03</td>\n",
       "      <td>Production of Dairy Products</td>\n",
       "      <td>202210</td>\n",
       "      <td>2022 October</td>\n",
       "      <td>4</td>\n",
       "      <td>Butter</td>\n",
       "      <td>000 Tonnes</td>\n",
       "      <td>21.57</td>\n",
       "    </tr>\n",
       "    <tr>\n",
       "      <th>1541</th>\n",
       "      <td>AKM03</td>\n",
       "      <td>Production of Dairy Products</td>\n",
       "      <td>202210</td>\n",
       "      <td>2022 October</td>\n",
       "      <td>21</td>\n",
       "      <td>Skimmed Milk Powder</td>\n",
       "      <td>000 Tonnes</td>\n",
       "      <td>NaN</td>\n",
       "    </tr>\n",
       "  </tbody>\n",
       "</table>\n",
       "</div>"
      ],
      "text/plain": [
       "     STATISTIC               STATISTIC Label  TLIST(M1)           Month  \\\n",
       "1537     AKM03  Production of Dairy Products     202209  2022 September   \n",
       "1538     AKM03  Production of Dairy Products     202209  2022 September   \n",
       "1539     AKM03  Production of Dairy Products     202210    2022 October   \n",
       "1540     AKM03  Production of Dairy Products     202210    2022 October   \n",
       "1541     AKM03  Production of Dairy Products     202210    2022 October   \n",
       "\n",
       "      C02064V02491              Product        UNIT  VALUE  \n",
       "1537             4               Butter  000 Tonnes  23.68  \n",
       "1538            21  Skimmed Milk Powder  000 Tonnes  13.15  \n",
       "1539             3               Cheese  000 Tonnes    NaN  \n",
       "1540             4               Butter  000 Tonnes  21.57  \n",
       "1541            21  Skimmed Milk Powder  000 Tonnes    NaN  "
      ]
     },
     "execution_count": 71,
     "metadata": {},
     "output_type": "execute_result"
    }
   ],
   "source": [
    "df2.tail()"
   ]
  },
  {
   "cell_type": "code",
   "execution_count": 72,
   "metadata": {},
   "outputs": [
    {
     "name": "stdout",
     "output_type": "stream",
     "text": [
      "<class 'pandas.core.frame.DataFrame'>\n",
      "RangeIndex: 1542 entries, 0 to 1541\n",
      "Data columns (total 8 columns):\n",
      " #   Column           Non-Null Count  Dtype \n",
      "---  ------           --------------  ----- \n",
      " 0   STATISTIC        1542 non-null   object\n",
      " 1   STATISTIC Label  1542 non-null   object\n",
      " 2   TLIST(M1)        1542 non-null   int64 \n",
      " 3   Month            1542 non-null   object\n",
      " 4   C02064V02491     1542 non-null   int64 \n",
      " 5   Product          1542 non-null   object\n",
      " 6   UNIT             1542 non-null   object\n",
      " 7   VALUE            1497 non-null   object\n",
      "dtypes: int64(2), object(6)\n",
      "memory usage: 96.5+ KB\n"
     ]
    }
   ],
   "source": [
    "df2.info()"
   ]
  }
 ],
 "metadata": {
  "kernelspec": {
   "display_name": "Python 3",
   "language": "python",
   "name": "python3"
  },
  "language_info": {
   "codemirror_mode": {
    "name": "ipython",
    "version": 3
   },
   "file_extension": ".py",
   "mimetype": "text/x-python",
   "name": "python",
   "nbconvert_exporter": "python",
   "pygments_lexer": "ipython3",
   "version": "3.8.5"
  }
 },
 "nbformat": 4,
 "nbformat_minor": 4
}
